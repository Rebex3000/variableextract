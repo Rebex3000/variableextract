{
  "nbformat": 4,
  "nbformat_minor": 0,
  "metadata": {
    "colab": {
      "provenance": [],
      "mount_file_id": "12D4nPDKePajp6bEp8xsJTi0BpNqtjdQa",
      "authorship_tag": "ABX9TyMgMikqV5SrcN7+0GQmJLiy",
      "include_colab_link": true
    },
    "kernelspec": {
      "name": "python3",
      "display_name": "Python 3"
    },
    "language_info": {
      "name": "python"
    }
  },
  "cells": [
    {
      "cell_type": "markdown",
      "metadata": {
        "id": "view-in-github",
        "colab_type": "text"
      },
      "source": [
        "<a href=\"https://colab.research.google.com/github/Rebex3000/variableextract/blob/main/AIRCentre_landusechange.ipynb\" target=\"_parent\"><img src=\"https://colab.research.google.com/assets/colab-badge.svg\" alt=\"Open In Colab\"/></a>"
      ]
    },
    {
      "cell_type": "markdown",
      "source": [
        "<!DOCTYPE html>\n",
        "<html>\n",
        "<body>\n",
        "  <h1>Extract Land Use and Land Cover (LULC) from raster file</h1>\n",
        "  <p>Kennedy, C. M., J. R. Oakleaf, D. M. Theobald, S. Baruch-Mordo, and J. Kiesecker. 2020. Global Human Modification of Terrestrial Systems. Palisades, New York: NASA Socioeconomic Data and Applications Center (SEDAC). https://doi.org/10.7927/edbc-3z60. Accessed: 01.04.2023</p>\n",
        "\n",
        "  <img src=\"https://sedac.ciesin.columbia.edu/geoserver/ows?service=WMS&version=1.1.0&request=GetMap&bbox=-180,-60,180,85&width=375&height=151&srs=EPSG:4326&format=image%2Fpng&transparent=true&layers=lulc:lulc-human-modification-terrestrial-systems,cartographic:national-boundaries\">\n",
        "\n",
        "  <p>Variable: land use change index (0-1)</p>\n",
        "  <p>Resolution of tiff file: 1 km</p>\n",
        "  <p>Based on modeling the physical extents of 13 anthropogenic stressors and their estimated impacts using spatially-explicit global data sets with a median year of 2016.\n",
        "  <p>Source link: <a> https://sedac.ciesin.columbia.edu/data/set/lulc-human-modification-terrestrial-systems</a></p>\n",
        "\n",
        "  <p>Extract variables for whole countries based on country borders from shape file.</p>\n",
        "  <p>Requirements:</p>\n",
        "  <ul>\n",
        "    <li>Shapefile with country borders of the whole world with column \"AREAID\"</li>\n",
        "    <li>Table with column \"AREAID\"</li>\n",
        "  </ul>\n",
        "</body>\n",
        "</html>\n"
      ],
      "metadata": {
        "id": "m5PDs0W8nDyN"
      }
    },
    {
      "cell_type": "code",
      "execution_count": null,
      "metadata": {
        "id": "5ML3pCWriTFO",
        "colab": {
          "base_uri": "https://localhost:8080/"
        },
        "outputId": "3377392b-b69a-472f-df0c-2260e24af210"
      },
      "outputs": [
        {
          "output_type": "stream",
          "name": "stdout",
          "text": [
            "Drive already mounted at /content/drive; to attempt to forcibly remount, call drive.mount(\"/content/drive\", force_remount=True).\n"
          ]
        }
      ],
      "source": [
        "# Mount drive\n",
        "from google.colab import drive\n",
        "drive.mount('/content/drive')"
      ]
    },
    {
      "cell_type": "code",
      "source": [
        "pip install geopandas"
      ],
      "metadata": {
        "id": "3PUfO1F3LX2I"
      },
      "execution_count": null,
      "outputs": []
    },
    {
      "cell_type": "code",
      "source": [
        "pip install rasterstats"
      ],
      "metadata": {
        "id": "UA_Y-cvCEzxb"
      },
      "execution_count": null,
      "outputs": []
    },
    {
      "cell_type": "code",
      "source": [
        "pip install rasterio"
      ],
      "metadata": {
        "id": "EKTqIjhBE3jV"
      },
      "execution_count": null,
      "outputs": []
    },
    {
      "cell_type": "code",
      "source": [
        "# import packages\n",
        "import pandas as pd\n",
        "import geopandas as gpd\n",
        "from rasterstats import zonal_stats\n",
        "import rasterio\n",
        "import matplotlib.pyplot as plt\n",
        "import numpy as np\n",
        "from matplotlib.colors import Normalize, ListedColormap"
      ],
      "metadata": {
        "id": "MvDcd0u4n-Z4"
      },
      "execution_count": null,
      "outputs": []
    },
    {
      "cell_type": "markdown",
      "source": [
        "# Test files\n",
        "Own test file paths must be inserted here:"
      ],
      "metadata": {
        "id": "ETEwgQfoDxPh"
      }
    },
    {
      "cell_type": "code",
      "source": [
        "# load test files with less entries\n",
        "# table\n",
        "# df = pd.read_csv('/content/drive/MyDrive/AIRCentre/introductions_test.csv')\n",
        "# print(df.head())\n",
        "# shapefile that has only some regions in Europe\n",
        "#shapefile = gpd.read_file('/content/drive/MyDrive/AIRCentre/my_few_worldregions.shp')\n",
        "# print(shapefile.head())"
      ],
      "metadata": {
        "id": "drr2_6q9oKPB"
      },
      "execution_count": null,
      "outputs": []
    },
    {
      "cell_type": "markdown",
      "source": [
        "# Actual files\n",
        "Own actual file paths must be inserted here:"
      ],
      "metadata": {
        "id": "TfwML2ehDgju"
      }
    },
    {
      "cell_type": "code",
      "source": [
        "# load actual files\n",
        "# table\n",
        "df = pd.read_csv('/content/drive/MyDrive/AIRCentre/aedesalbopictus.csv')\n",
        "print(df.head())\n",
        "# shapefile with worldregions\n",
        "shapefile = gpd.read_file('/content/drive/MyDrive/AIRCentre/my_global_regions_rebecca230303.shp')\n",
        "print(shapefile.head())\n"
      ],
      "metadata": {
        "id": "JpikV4ikoMte",
        "colab": {
          "base_uri": "https://localhost:8080/"
        },
        "outputId": "a559fbfa-f87f-4dc6-fe53-7b1fc6e1e022"
      },
      "execution_count": null,
      "outputs": [
        {
          "output_type": "stream",
          "name": "stdout",
          "text": [
            "   SPECIESID           SPECIES AREAID  ISO                            NAME_0  \\\n",
            "0          1  Aedes albopictus   A505  USA               USA (North America)   \n",
            "1          2  Aedes albopictus   A501  BRA  Brazil (Central & South America)   \n",
            "2          3  Aedes albopictus   A224  ALB                  Albania (Europe)   \n",
            "3          4  Aedes albopictus   A328  ITA                    Italy (Europe)   \n",
            "4          5  Aedes albopictus   A295  FRA                   France (Europe)   \n",
            "\n",
            "   YEAR  PERIOD                               ORIGIN ESTABLISHED  \\\n",
            "0  1946    1940                   Philippines (Asia)           Y   \n",
            "1  1986    1980                               (Asia)           Y   \n",
            "2  1989    1980                         China (Asia)           Y   \n",
            "3  1990    1990                  USA (North America)           Y   \n",
            "4  1999    1990  Japan (Asia) or USA (North America)           Y   \n",
            "\n",
            "  dispersal_pathway  \n",
            "0        Used tyres  \n",
            "1        Used tyres  \n",
            "2        Used tyres  \n",
            "3        Used tyres  \n",
            "4        Used tyres  \n",
            "   ISO   NAME_0     NAME_1  MTemp  MTPrec AREAID       Realm  Island  \\\n",
            "0  RUS   Russia  Leningrad    4.4   661.5   A121  Palearctic       0   \n",
            "1  EST  Estonia        NaN    5.9   676.9   A289  Palearctic       0   \n",
            "2  DEU  Germany        NaN    9.1   726.6   A302  Palearctic       0   \n",
            "3  HTI    Haiti        NaN   25.0  1479.2   A315   Neotropic       1   \n",
            "4  MMR  Myanmar        NaN   23.3  1992.7   A370  Indomalaya       0   \n",
            "\n",
            "         ClimClass       AreaSqKm   AreaSqKmV2  \\\n",
            "0   T 0-10-Not Dry   84978.813375   85267.8962   \n",
            "1   T 0-10-Not Dry   45350.182019   45489.8873   \n",
            "2   T 0-10-Not Dry  357056.090045  357552.8398   \n",
            "3  T 20-30-Not Dry   27250.949018   27106.7498   \n",
            "4  T 20-30-Not Dry  672573.654153  669252.0962   \n",
            "\n",
            "                               layer  \\\n",
            "0  my_global_regions_rebecca230301V2   \n",
            "1  my_global_regions_rebecca230301V2   \n",
            "2  my_global_regions_rebecca230301V2   \n",
            "3  my_global_regions_rebecca230301V2   \n",
            "4  my_global_regions_rebecca230301V2   \n",
            "\n",
            "                                                path  \\\n",
            "0  /Users/rebeccapabst/Desktop/IGOT/data/MY_Globa...   \n",
            "1  /Users/rebeccapabst/Desktop/IGOT/data/MY_Globa...   \n",
            "2  /Users/rebeccapabst/Desktop/IGOT/data/MY_Globa...   \n",
            "3  /Users/rebeccapabst/Desktop/IGOT/data/MY_Globa...   \n",
            "4  /Users/rebeccapabst/Desktop/IGOT/data/MY_Globa...   \n",
            "\n",
            "                                            geometry  \n",
            "0  MULTIPOLYGON (((27.74048 58.99960, 27.74021 58...  \n",
            "1  MULTIPOLYGON (((23.27234 57.78022, 23.27231 57...  \n",
            "2  MULTIPOLYGON (((8.70128 47.71523, 8.70298 47.7...  \n",
            "3  MULTIPOLYGON (((-73.70541 18.10958, -73.70541 ...  \n",
            "4  MULTIPOLYGON (((97.79915 8.83028, 97.79944 8.8...  \n"
          ]
        }
      ]
    },
    {
      "cell_type": "markdown",
      "source": [
        "# Land Use and Land Cover (LULC)\n",
        "Variable: lulc index, median year 2016, with 0 not modified at all and 1 completely modified <br>\n",
        "Resolution of tiff file: 1km <br>\n",
        "Source link:  https://sedac.ciesin.columbia.edu/data/set/lulc-human-modification-terrestrial-systems <br>\n",
        "Download file from link, add to drive and paste file path here: <br>"
      ],
      "metadata": {
        "id": "7w1JaIf2DzO8"
      }
    },
    {
      "cell_type": "code",
      "source": [
        "# Load the TIFF file for worldpopulation\n",
        "tiff_path = '/content/drive/MyDrive/AIRCentre/lulc-human-modification-terrestrial-systems_geographic.tif'\n",
        "with rasterio.open(tiff_path, crs=shapefile.crs) as src:\n",
        "    tiff_crs = src.crs\n",
        "    # Read the image data\n",
        "    tiff_data = src.read(1)\n",
        "    # Plot the image with colors between 0 and 1\n",
        "    plt.imshow(tiff_data, cmap='viridis', vmin=0, vmax=1)\n",
        "    plt.colorbar()\n",
        "    plt.title('Land use change')\n",
        "    plt.show()\n"
      ],
      "metadata": {
        "colab": {
          "base_uri": "https://localhost:8080/",
          "height": 420
        },
        "id": "emVi9AdXDQiC",
        "outputId": "4a6c5edb-17d3-461a-8ae7-fb2828f9cd0e"
      },
      "execution_count": null,
      "outputs": [
        {
          "output_type": "display_data",
          "data": {
            "text/plain": [
              "<Figure size 640x480 with 2 Axes>"
            ],
            "image/png": "[encoded data removed]"
          },
          "metadata": {}
        }
      ]
    },
    {
      "cell_type": "code",
      "source": [
        "# Reproject the shapefile to match the CRS of the TIFF file\n",
        "shapefile_reproj = shapefile.to_crs(tiff_crs)"
      ],
      "metadata": {
        "id": "AuN_BzsKNtc6"
      },
      "execution_count": null,
      "outputs": []
    },
    {
      "cell_type": "code",
      "source": [
        "# initialize the list of population density\n",
        "lulc = []\n",
        "\n",
        "# loop through each entry in the table (df)\n",
        "for index, row in df.iterrows():\n",
        "\n",
        "    # extract relevant data from the row\n",
        "    area_id = row['AREAID']\n",
        "    country_code = row['NAME_0']\n",
        "\n",
        "    # select the relevant region from the shapefile\n",
        "    region = shapefile_reproj.loc[shapefile_reproj['AREAID'] == area_id].iloc[0]\n",
        "\n",
        "    # zonal statistics\n",
        "    # extract mean lulc index for region from the tiff file\n",
        "    with rasterio.open(tiff_path, crs=shapefile.crs) as src:\n",
        "        affine = src.transform\n",
        "        stats = zonal_stats(region.geometry, tiff_path, affine=affine, stats=['mean'])\n",
        "        lulc.append(stats[0]['mean'])\n",
        "        print(country_code)\n",
        "        print(stats[0]['mean'])\n",
        "\n",
        "\n",
        "# append list of mean population density to the initial table as column\n",
        "df['LULC'] = lulc\n"
      ],
      "metadata": {
        "colab": {
          "base_uri": "https://localhost:8080/"
        },
        "id": "4U130czlFCXy",
        "outputId": "c5845070-9c97-4b24-8bef-424e28e4ac3d"
      },
      "execution_count": null,
      "outputs": [
        {
          "output_type": "stream",
          "name": "stdout",
          "text": [
            "USA (North America)\n",
            "0.19194216558990992\n",
            "Brazil (Central & South America)\n",
            "0.15620645591958132\n",
            "Albania (Europe)\n",
            "0.3881365770764159\n",
            "Italy (Europe)\n",
            "0.5679144619002395\n",
            "France (Europe)\n",
            "0.49570750329209284\n",
            "Guam (Australasia & Pacific Islands)\n",
            "0.5108178039937896\n",
            "Indonesia (Australasia & Pacific Islands)\n",
            "0.22945165234413356\n",
            "Papua New Guinea (Australasia & Pacific Islands)\n",
            "0.1720986809745435\n",
            "Solomon Islands (Australasia & Pacific Islands)\n",
            "0.11381545788393643\n",
            "Mexico (North America)\n",
            "0.25725357980937597\n",
            "Fiji (Australasia & Pacific Islands)\n",
            "0.1665356243202006\n",
            "Palestine (Middle East)\n",
            "0.6729245534207863\n",
            "Cuba (Central & South America)\n",
            "0.32905762223469265\n",
            "Cayman Islands (Central & South America)\n",
            "0.4520216262880176\n",
            "Dominican Republic (Central & South America)\n",
            "0.3533426455589963\n",
            "Colombia (Central & South America)\n",
            "0.17362714366957793\n",
            "Argentina (Central & South America)\n",
            "0.235986202992883\n",
            "Honduras (Central & South America)\n",
            "0.24732029997284435\n",
            "Montenegro (Europe)\n",
            "0.316729793676594\n",
            "Greece (Europe)\n",
            "0.4283508564119361\n",
            "Croatia (Europe)\n",
            "0.4543857814529615\n",
            "Bosnia & Herzegovina (Europe)\n",
            "0.4060269265083141\n",
            "Monaco (Europe)\n",
            "0.8936883211135864\n",
            "Slovenia (Europe)\n",
            "0.4596477881985048\n",
            "San Marino (Europe)\n",
            "0.7707491193498884\n",
            "Corsica\n",
            "0.2618213895277792\n",
            "Greek Islands\n",
            "0.37788436815585413\n",
            "Torres Strait\n",
            "0.0761279498042766\n",
            "Malta (Europe)\n",
            "0.7732709402061371\n",
            "Canada (North America)\n",
            "0.033799264755214026\n",
            "Nicaragua (Central & South America)\n",
            "0.25113081381505686\n",
            "Spain (Europe)\n",
            "0.35871456804773283\n",
            "Panama (Central & South America)\n",
            "0.22009023183726825\n",
            "Costa Rica (Central & South America)\n",
            "0.31253545610736516\n",
            "Central African Republic (Africa)\n",
            "0.12917930146713738\n",
            "Russia (Europe)\n",
            "0.07154536482412924\n",
            "Turkey (Europe)\n",
            "0.44802475336306624\n",
            "Romania (Europe)\n",
            "0.4906369961400461\n",
            "Czech Republic (Europe)\n",
            "0.570219137054331\n",
            "Macedonia (Europe)\n",
            "0.4074441395322622\n",
            "Armenia (Europe)\n",
            "0.33418179600147796\n",
            "Ibiza\n",
            "0.4746316923147807\n",
            "Tyrrhenian islands\n",
            "0.5875031380728936\n",
            "Haiti (Central & South America)\n",
            "0.6413305886222586\n",
            "Bulgaria (Europe)\n",
            "0.47715946236910733\n",
            "Hungary (Europe)\n",
            "0.5537565368585915\n",
            "Georgia (Europe)\n",
            "0.3613418018915241\n",
            "Democratic Republic of Congo (Africa)\n",
            "0.15863141483829532\n",
            "Sao Tome and Principe (Africa)\n",
            "0.2458010687344316\n",
            "Gibraltar (Europe)\n",
            "0.7706418037414551\n",
            "Portugal (Europe)\n",
            "0.4410625469463976\n",
            "Nigeria (Africa)\n",
            "0.5412787888352357\n",
            "El Salvador (Central & South America)\n",
            "0.626306015374542\n",
            "Guatemala (Central & South America)\n",
            "0.31077129950225063\n",
            "Cameroon (Africa)\n",
            "0.21014706851288456\n",
            "Equatorial Guinea (Africa)\n",
            "0.13699267181042526\n",
            "Israel (Middle East)\n",
            "0.47044779325861824\n",
            "Lebanon (Middle East)\n",
            "0.4727515580126801\n",
            "Syria (Middle East)\n",
            "0.3205090022030039\n",
            "Gabon (Africa)\n",
            "0.12076680507211189\n",
            "Belize (Central & South America)\n",
            "0.17251258509678477\n",
            "Venezuela (Central & South America)\n",
            "0.16116185060457067\n",
            "Mali (Africa)\n",
            "0.1607297825335106\n",
            "Algeria (Africa)\n",
            "0.07804779483359511\n",
            "Tonga (Australasia & Pacific Islands)\n",
            "0.43598385111554283\n",
            "Morocco (Africa)\n",
            "0.2507747072484747\n",
            "Jordan (Middle East)\n",
            "0.14865972731142602\n",
            "Germany\n",
            "0.5951565439690152\n"
          ]
        }
      ]
    },
    {
      "cell_type": "markdown",
      "source": [
        "# Export Result"
      ],
      "metadata": {
        "id": "t1LpJawjFQJN"
      }
    },
    {
      "cell_type": "code",
      "source": [
        "# save the DataFrame to an Excel file\n",
        "df.to_excel('/content/drive/MyDrive/AIRCentre/population_density.xlsx', index=False)\n"
      ],
      "metadata": {
        "id": "_w53jugxui6E"
      },
      "execution_count": null,
      "outputs": []
    }
  ]
}