{
  "nbformat": 4,
  "nbformat_minor": 0,
  "metadata": {
    "colab": {
      "provenance": [],
      "mount_file_id": "12D4nPDKePajp6bEp8xsJTi0BpNqtjdQa",
      "authorship_tag": "ABX9TyND0z13+ro/8k7FdJyj5w4/",
      "include_colab_link": true
    },
    "kernelspec": {
      "name": "python3",
      "display_name": "Python 3"
    },
    "language_info": {
      "name": "python"
    }
  },
  "cells": [
    {
      "cell_type": "markdown",
      "metadata": {
        "id": "view-in-github",
        "colab_type": "text"
      },
      "source": [
        "<a href=\"https://colab.research.google.com/github/rebe3000/extract_variables/blob/main/Chelsa_Precipitation.ipynb\" target=\"_parent\"><img src=\"https://colab.research.google.com/assets/colab-badge.svg\" alt=\"Open In Colab\"/></a>"
      ]
    },
    {
      "cell_type": "markdown",
      "source": [
        "<!DOCTYPE html>\n",
        "<html>\n",
        "<body>\n",
        "  <h1>Extract precipitation variables from chelsa dataset, including code to download raster files for the desired time period</h1>\n",
        "  <p>Karger, D.N., Conrad, O., Böhner, J., Kawohl, T., Kreft, H., Soria-Auza, R.W., Zimmermann, N.E., Linder, P., Kessler, M. (2017): Climatologies at high resolution for the Earth land surface areas. Scientific Data. 4 170122. https://doi.org/10.1038/sdata.2017.122  </p>\n",
        "\n",
        "  <img src=\"https://chelsa-climate.org/wp-content/uploads/2016/02/logotest3.gif\">\n",
        "\n",
        "\n",
        "  <p>Variable: precipitation sum (mm) </p>\n",
        "  <p>Resolution of tiff file: 30 seconds, approx. 1 km</p>\n",
        "\n",
        "  <p> Chelsa has two data sets for average monthly climate variables. <br>\n",
        "  1. Historical climate: CHELSAcruts (1901-2016) link: <a> https://chelsa-climate.org/chelsacruts/</a><br>\n",
        "  2. Recent climate (1980-2019) link: <a> https://envicloud.wsl.ch/#/?prefix=chelsa%2Fchelsa_V2%2FGLOBAL%2F </a>  </p>\n",
        "\n",
        "  <p>Extract variables for whole countries based on country borders from shape file.</p>\n",
        "  <p>Requirements:</p>\n",
        "  <ul>\n",
        "    <li>Shapefile with country borders of the whole world with column \"AREAID\"</li>\n",
        "    <li>Table with columns \"AREAID\", \"NAME_0\", \"SPECIESID\", and \"YEAR\"</li>\n",
        "    <li>This script downloads the raster files for the wanted years from host.\n",
        "  </ul>\n",
        "</body>\n",
        "</html>\n"
      ],
      "metadata": {
        "id": "m5PDs0W8nDyN"
      }
    },
    {
      "cell_type": "code",
      "execution_count": null,
      "metadata": {
        "id": "5ML3pCWriTFO",
        "colab": {
          "base_uri": "https://localhost:8080/"
        },
        "outputId": "eada2cad-73d4-4374-a20a-c861b0ff7974"
      },
      "outputs": [
        {
          "output_type": "stream",
          "name": "stdout",
          "text": [
            "Mounted at /content/drive\n"
          ]
        }
      ],
      "source": [
        "# Mount drive\n",
        "from google.colab import drive\n",
        "drive.mount('/content/drive')"
      ]
    },
    {
      "cell_type": "code",
      "source": [
        "pip install geopandas"
      ],
      "metadata": {
        "colab": {
          "base_uri": "https://localhost:8080/"
        },
        "id": "2VFGbx8S-Wbu",
        "outputId": "560a49cf-3c1d-47c0-8706-84442cae9064"
      },
      "execution_count": null,
      "outputs": [
        {
          "output_type": "stream",
          "name": "stdout",
          "text": [
            "Looking in indexes: https://pypi.org/simple, https://us-python.pkg.dev/colab-wheels/public/simple/\n",
            "Collecting geopandas\n",
            "  Downloading geopandas-0.13.2-py3-none-any.whl (1.1 MB)\n",
            "\u001b[2K     \u001b[90m━━━━━━━━━━━━━━━━━━━━━━━━━━━━━━━━━━━━━━━━\u001b[0m \u001b[32m1.1/1.1 MB\u001b[0m \u001b[31m20.8 MB/s\u001b[0m eta \u001b[36m0:00:00\u001b[0m\n",
            "\u001b[?25hCollecting fiona>=1.8.19 (from geopandas)\n",
            "  Downloading Fiona-1.9.4.post1-cp310-cp310-manylinux_2_17_x86_64.manylinux2014_x86_64.whl (16.4 MB)\n",
            "\u001b[2K     \u001b[90m━━━━━━━━━━━━━━━━━━━━━━━━━━━━━━━━━━━━━━━━\u001b[0m \u001b[32m16.4/16.4 MB\u001b[0m \u001b[31m78.0 MB/s\u001b[0m eta \u001b[36m0:00:00\u001b[0m\n",
            "\u001b[?25hRequirement already satisfied: packaging in /usr/local/lib/python3.10/dist-packages (from geopandas) (23.1)\n",
            "Requirement already satisfied: pandas>=1.1.0 in /usr/local/lib/python3.10/dist-packages (from geopandas) (1.5.3)\n",
            "Collecting pyproj>=3.0.1 (from geopandas)\n",
            "  Downloading pyproj-3.6.0-cp310-cp310-manylinux_2_17_x86_64.manylinux2014_x86_64.whl (7.9 MB)\n",
            "\u001b[2K     \u001b[90m━━━━━━━━━━━━━━━━━━━━━━━━━━━━━━━━━━━━━━━━\u001b[0m \u001b[32m7.9/7.9 MB\u001b[0m \u001b[31m93.9 MB/s\u001b[0m eta \u001b[36m0:00:00\u001b[0m\n",
            "\u001b[?25hRequirement already satisfied: shapely>=1.7.1 in /usr/local/lib/python3.10/dist-packages (from geopandas) (2.0.1)\n",
            "Requirement already satisfied: attrs>=19.2.0 in /usr/local/lib/python3.10/dist-packages (from fiona>=1.8.19->geopandas) (23.1.0)\n",
            "Requirement already satisfied: certifi in /usr/local/lib/python3.10/dist-packages (from fiona>=1.8.19->geopandas) (2022.12.7)\n",
            "Requirement already satisfied: click~=8.0 in /usr/local/lib/python3.10/dist-packages (from fiona>=1.8.19->geopandas) (8.1.3)\n",
            "Collecting click-plugins>=1.0 (from fiona>=1.8.19->geopandas)\n",
            "  Downloading click_plugins-1.1.1-py2.py3-none-any.whl (7.5 kB)\n",
            "Collecting cligj>=0.5 (from fiona>=1.8.19->geopandas)\n",
            "  Downloading cligj-0.7.2-py3-none-any.whl (7.1 kB)\n",
            "Requirement already satisfied: six in /usr/local/lib/python3.10/dist-packages (from fiona>=1.8.19->geopandas) (1.16.0)\n",
            "Requirement already satisfied: python-dateutil>=2.8.1 in /usr/local/lib/python3.10/dist-packages (from pandas>=1.1.0->geopandas) (2.8.2)\n",
            "Requirement already satisfied: pytz>=2020.1 in /usr/local/lib/python3.10/dist-packages (from pandas>=1.1.0->geopandas) (2022.7.1)\n",
            "Requirement already satisfied: numpy>=1.21.0 in /usr/local/lib/python3.10/dist-packages (from pandas>=1.1.0->geopandas) (1.22.4)\n",
            "Installing collected packages: pyproj, cligj, click-plugins, fiona, geopandas\n",
            "Successfully installed click-plugins-1.1.1 cligj-0.7.2 fiona-1.9.4.post1 geopandas-0.13.2 pyproj-3.6.0\n"
          ]
        }
      ]
    },
    {
      "cell_type": "code",
      "source": [
        "pip install rasterstats"
      ],
      "metadata": {
        "colab": {
          "base_uri": "https://localhost:8080/"
        },
        "id": "fR7r2yVg-p5k",
        "outputId": "501ce3de-ea3c-46bb-8a05-24c55ea3d305"
      },
      "execution_count": null,
      "outputs": [
        {
          "output_type": "stream",
          "name": "stdout",
          "text": [
            "Looking in indexes: https://pypi.org/simple, https://us-python.pkg.dev/colab-wheels/public/simple/\n",
            "Collecting rasterstats\n",
            "  Downloading rasterstats-0.19.0-py3-none-any.whl (16 kB)\n",
            "Collecting affine (from rasterstats)\n",
            "  Downloading affine-2.4.0-py3-none-any.whl (15 kB)\n",
            "Requirement already satisfied: click>7.1 in /usr/local/lib/python3.10/dist-packages (from rasterstats) (8.1.3)\n",
            "Requirement already satisfied: cligj>=0.4 in /usr/local/lib/python3.10/dist-packages (from rasterstats) (0.7.2)\n",
            "Requirement already satisfied: fiona in /usr/local/lib/python3.10/dist-packages (from rasterstats) (1.9.4.post1)\n",
            "Requirement already satisfied: numpy>=1.9 in /usr/local/lib/python3.10/dist-packages (from rasterstats) (1.22.4)\n",
            "Collecting rasterio>=1.0 (from rasterstats)\n",
            "  Downloading rasterio-1.3.7-cp310-cp310-manylinux_2_17_x86_64.manylinux2014_x86_64.whl (21.3 MB)\n",
            "\u001b[2K     \u001b[90m━━━━━━━━━━━━━━━━━━━━━━━━━━━━━━━━━━━━━━━━\u001b[0m \u001b[32m21.3/21.3 MB\u001b[0m \u001b[31m56.0 MB/s\u001b[0m eta \u001b[36m0:00:00\u001b[0m\n",
            "\u001b[?25hCollecting simplejson (from rasterstats)\n",
            "  Downloading simplejson-3.19.1-cp310-cp310-manylinux_2_5_x86_64.manylinux1_x86_64.manylinux_2_17_x86_64.manylinux2014_x86_64.whl (137 kB)\n",
            "\u001b[2K     \u001b[90m━━━━━━━━━━━━━━━━━━━━━━━━━━━━━━━━━━━━━━\u001b[0m \u001b[32m137.9/137.9 kB\u001b[0m \u001b[31m13.2 MB/s\u001b[0m eta \u001b[36m0:00:00\u001b[0m\n",
            "\u001b[?25hRequirement already satisfied: shapely in /usr/local/lib/python3.10/dist-packages (from rasterstats) (2.0.1)\n",
            "Requirement already satisfied: attrs in /usr/local/lib/python3.10/dist-packages (from rasterio>=1.0->rasterstats) (23.1.0)\n",
            "Requirement already satisfied: certifi in /usr/local/lib/python3.10/dist-packages (from rasterio>=1.0->rasterstats) (2022.12.7)\n",
            "Collecting snuggs>=1.4.1 (from rasterio>=1.0->rasterstats)\n",
            "  Downloading snuggs-1.4.7-py3-none-any.whl (5.4 kB)\n",
            "Requirement already satisfied: click-plugins in /usr/local/lib/python3.10/dist-packages (from rasterio>=1.0->rasterstats) (1.1.1)\n",
            "Requirement already satisfied: setuptools in /usr/local/lib/python3.10/dist-packages (from rasterio>=1.0->rasterstats) (67.7.2)\n",
            "Requirement already satisfied: six in /usr/local/lib/python3.10/dist-packages (from fiona->rasterstats) (1.16.0)\n",
            "Requirement already satisfied: pyparsing>=2.1.6 in /usr/local/lib/python3.10/dist-packages (from snuggs>=1.4.1->rasterio>=1.0->rasterstats) (3.0.9)\n",
            "Installing collected packages: snuggs, simplejson, affine, rasterio, rasterstats\n",
            "Successfully installed affine-2.4.0 rasterio-1.3.7 rasterstats-0.19.0 simplejson-3.19.1 snuggs-1.4.7\n"
          ]
        }
      ]
    },
    {
      "cell_type": "code",
      "source": [
        "# import packages\n",
        "import multiprocessing\n",
        "import pandas as pd\n",
        "import geopandas as gpd\n",
        "from rasterstats import zonal_stats\n",
        "import rasterio\n",
        "import os\n",
        "import urllib.request\n",
        "import time\n",
        "from tqdm import tqdm"
      ],
      "metadata": {
        "id": "MvDcd0u4n-Z4"
      },
      "execution_count": null,
      "outputs": []
    },
    {
      "cell_type": "markdown",
      "source": [
        "## Set path to download the correct file for the precipitation  (corresponding year to introduction if species into new region)\n",
        "! Do not change file paths here !"
      ],
      "metadata": {
        "id": "3Od-CIgh-H2y"
      }
    },
    {
      "cell_type": "code",
      "source": [
        "def downloadYearlyData(m, year, output_dir):\n",
        "    if year < 1980:\n",
        "        tiff_file_name = os.path.join(output_dir, f'CHELSAcruts_precip_{m}_{year}_V.1.0.tif')\n",
        "        if os.path.exists(tiff_file_name):\n",
        "            return tiff_file_name\n",
        "        tiff_url = f'https://os.zhdk.cloud.switch.ch/envicloud/chelsa/chelsa_V1/chelsa_cruts/prec/CHELSAcruts_prec_{m}_{year}_V.1.0.tif'\n",
        "\n",
        "    elif 1979 < year < 2020:\n",
        "        tiff_file_name = os.path.join(output_dir, f'CHELSAV21_precip_{m}_{year}_V.1.0.tif')\n",
        "        if os.path.exists(tiff_file_name):\n",
        "            return tiff_file_name\n",
        "        tiff_url = 'https://os.zhdk.cloud.switch.ch/envicloud/chelsa/chelsa_V2/GLOBAL/monthly/pr/CHELSA_pr_{:02d}_{}_V.2.1.tif'.format(m, year)\n",
        "\n",
        "        # get the file size, to check if whole file was downloaded\n",
        "    with urllib.request.urlopen(tiff_url) as response:\n",
        "        file_size = int(response.info().get('Content-Length'))\n",
        "\n",
        "        # retry the download up to three times\n",
        "        max_retry = 3\n",
        "        retry_count = 0\n",
        "        while retry_count < max_retry:\n",
        "            try:\n",
        "                # download the file with tqdm progress bar, too see download progress\n",
        "                with tqdm(unit='B', unit_scale=True, unit_divisor=1024, miniters=1, desc=tiff_file_name,\n",
        "                          total=file_size) as progress_bar:\n",
        "                    urllib.request.urlretrieve(tiff_url, tiff_file_name,\n",
        "                                               reporthook=lambda b, bsize, t: progress_bar.update(bsize))\n",
        "                return tiff_file_name\n",
        "            except:\n",
        "                # wait for 60 seconds and try again, important to make sure that file was really downloaded\n",
        "                time.sleep(60)\n",
        "                retry_count += 1\n",
        "\n",
        "        # raise an error if all retries failed\n",
        "        raise Exception('Failed to download {}'.format(tiff_url))"
      ],
      "metadata": {
        "id": "0hiLKysx-Glj"
      },
      "execution_count": null,
      "outputs": []
    },
    {
      "cell_type": "markdown",
      "source": [
        "## Define zonal statistics depending of the data source, as they have different formats.\n",
        "Only choose the chelsacruts data set if needed, as the recent data set is more accurate."
      ],
      "metadata": {
        "id": "eOf8z8ooAG02"
      }
    },
    {
      "cell_type": "code",
      "source": [
        "def readTiff(tiff_file_name, year):\n",
        "    if year < 1980:\n",
        "        with rasterio.open(tiff_file_name) as src:\n",
        "            affine = src.transform\n",
        "            stats = zonal_stats(region.geometry, tiff_file_name, affine=affine, stats=['mean'])\n",
        "            monthly_precip.append(stats[0]['mean'])\n",
        "            print(stats[0]['mean'])\n",
        "\n",
        "    # recent Chelsa data set has different scaling of variables\n",
        "    elif 1979 < year < 2020:\n",
        "        with rasterio.open(tiff_file_name) as src:\n",
        "            affine = src.transform\n",
        "            stats = zonal_stats(region.geometry, tiff_file_name, affine=affine, stats=['mean'])\n",
        "            monthly_precip.append(stats[0]['mean'] * 0.01)\n",
        "            print(stats[0]['mean'] * 0.01)\n",
        "    # os.remove(tiff_file_name)"
      ],
      "metadata": {
        "id": "Jj5ONiJs__Ex"
      },
      "execution_count": null,
      "outputs": []
    },
    {
      "cell_type": "markdown",
      "source": [
        "## Own file paths must be inserted here, wherever nescessary:\n",
        "This part will create a sum of precipitation for the whole year when species was introduced into new region, as well as a value for the driest month of that year.\n",
        "\n",
        "\n"
      ],
      "metadata": {
        "id": "f6FfTFWVAfNu"
      }
    },
    {
      "cell_type": "code",
      "source": [
        "if __name__ == '__main__':\n",
        "    #55555 = no data can not find URL\n",
        "    #999 = no data because introduction is after 2019\n",
        "\n",
        "    # # Load test CSV table\n",
        "    df = pd.read_csv('/content/drive/MyDrive/AIRCentre/introductions_test.csv')\n",
        "\n",
        "    # # Load real CSV table\n",
        "    #df = pd.read_csv('/content/drive/MyDrive/AIRCentre/aedesalbopictus.csv')\n",
        "    print(df.head())\n",
        "\n",
        "    # # Load test shapefile of the regions\n",
        "    shapefile = gpd.read_file('/content/drive/MyDrive/AIRCentre/my_few_worldregions.shp', crs='EPSG:4326')\n",
        "\n",
        "    # # Load shapefile of the global regions\n",
        "    #shapefile = gpd.read_file('/content/drive/MyDrive/AIRCentre/my_global_regions_rebecca230303.shp', crs='EPSG:4326')\n",
        "    print(shapefile.head())\n",
        "\n",
        "    # # list of the respective annual average minimum temperatures\n",
        "    precip = []\n",
        "    driest_month = []\n",
        "\n",
        "    # specify the directory to save the files\n",
        "    output_dir = '/content/drive/MyDrive/AIRCentre'\n",
        "\n",
        "    # # loop through each entry in the csv table\n",
        "    for index, row in df.iterrows():\n",
        "        # extract relevant data from the row\n",
        "        species_id = row['SPECIESID']\n",
        "        area_id = row['AREAID']\n",
        "        country = row['NAME_0']\n",
        "        year = row['YEAR']\n",
        "\n",
        "        # skip the loop iteration if the country is null or missing\n",
        "        if pd.isnull(country):\n",
        "            continue\n",
        "\n",
        "        # select the relevant region from the shapefile\n",
        "        region = shapefile.loc[shapefile['AREAID'] == area_id].iloc[0]\n",
        "\n",
        "        # initialize list of monthly average minimum temperatures\n",
        "        monthly_precip = []\n",
        "\n",
        "        try:\n",
        "            with multiprocessing.Pool(processes=4) as pool:\n",
        "                # apply the function to each month in parallel\n",
        "                results = []\n",
        "                for m in range(1, 13):\n",
        "                    results.append(pool.apply_async(downloadYearlyData, args=(m, year, output_dir)))\n",
        "\n",
        "                # wait for all processes to finish\n",
        "                for r in results:\n",
        "                    r.wait()\n",
        "\n",
        "                for m in range(1, 13):\n",
        "                    readTiff(tiff_file_name=downloadYearlyData(m, year, output_dir), year=year)\n",
        "\n",
        "            # calculate the yearly average precipitation and append to the list of yearly values\n",
        "            precip.append(sum(monthly_precip))\n",
        "            driest_month.append(min(monthly_precip))\n",
        "\n",
        "            # print the result\n",
        "            print(\n",
        "                f\"SpeciesID: {species_id}, Country: {country}, AreaID: {area_id}, Year: {year}, Yearly sum of rain: {sum(monthly_precip)} (kg/m^2 or mm as you wish my darling), Driest month: {min(monthly_precip)}\")\n",
        "\n",
        "        except:\n",
        "            # if url is not found or introduction later than 2019, in order to not lose the data\n",
        "            precip.append(9999)\n",
        "            dferror = pd.DataFrame(precip, columns=['PRECIP_OFYEAR'])\n",
        "            dferror.to_excel('/content/drive/MyDrive/AIRCentre/precip_except_result_55.xlsx', index=False)\n",
        "            print(\"Execution failed, data saved in results folder as: precip_except_result.xlsx\")\n",
        "\n",
        "    # append mean tmax to initial table\n",
        "    df['PRECIP_OFYEAR'] = precip\n",
        "    df['DRIEST_MONTH_OFYEAR'] = driest_month\n",
        "\n",
        "    # save the DataFrame to an Excel file\n",
        "    df.to_excel('/content/drive/MyDrive/AIRCentre/precip.xlsx', index=False)\n",
        "\n",
        "\n"
      ],
      "metadata": {
        "colab": {
          "base_uri": "https://localhost:8080/"
        },
        "id": "ucs5tLp1AgB2",
        "outputId": "5ff9d882-e2d3-4bae-efc8-667ef9c5c20e"
      },
      "execution_count": null,
      "outputs": [
        {
          "output_type": "stream",
          "name": "stdout",
          "text": [
            "   SPECIESID            SPECIES AREAID  ISO    NAME_0  YEAR\n",
            "0          1  Aedes albopictus    A295  FRA    France  1950\n",
            "1          2   Aedes albopictus   A398  PRT  Portugal  2005\n",
            "   ISO       NAME_0  NAME_1  MTemp  MTPrec AREAID       Realm  Island  \\\n",
            "0  DEU      Germany     NaN    9.1   726.6   A302  Palearctic       0   \n",
            "1  GRC       Greece     NaN   14.2   618.9   A305  Palearctic       0   \n",
            "2  NLD  Netherlands     NaN   10.0   801.2   A374  Palearctic       0   \n",
            "3  PRT     Portugal     NaN   15.5   820.7   A398  Palearctic       0   \n",
            "4  SYC   Seychelles     NaN   27.0  1460.7   A418  Afrotropic       1   \n",
            "\n",
            "         ClimClass       AreaSqKm   AreaSqKmV2  \\\n",
            "0   T 0-10-Not Dry  357056.090045  357552.8398   \n",
            "1  T 10-20-Not Dry  132747.841923  132561.6183   \n",
            "2   T 0-10-Not Dry   37602.902495   37665.8118   \n",
            "3  T 10-20-Not Dry   91995.322515   91878.0332   \n",
            "4  T 20-30-Not Dry     494.407466     491.2000   \n",
            "\n",
            "                                            geometry  \n",
            "0  MULTIPOLYGON (((8.70128 47.71523, 8.70298 47.7...  \n",
            "1  MULTIPOLYGON (((24.06569 34.87264, 24.06569 34...  \n",
            "2  MULTIPOLYGON (((3.51528 51.40736, 3.51528 51.4...  \n",
            "3  MULTIPOLYGON (((-16.05835 30.03020, -16.05837 ...  \n",
            "4  MULTIPOLYGON (((51.13340 -10.22162, 51.13340 -...  \n"
          ]
        },
        {
          "output_type": "stream",
          "name": "stderr",
          "text": [
            "/content/drive/MyDrive/AIRCentre/CHELSAcruts_precip_3_1950_V.1.0.tif: 88.8MB [00:09, 9.89MB/s]                            \n",
            "/content/drive/MyDrive/AIRCentre/CHELSAcruts_precip_2_1950_V.1.0.tif: 84.8MB [00:09, 9.32MB/s]                            \n",
            "/content/drive/MyDrive/AIRCentre/CHELSAcruts_precip_1_1950_V.1.0.tif: 87.8MB [00:09, 9.42MB/s]                            \n",
            "/content/drive/MyDrive/AIRCentre/CHELSAcruts_precip_4_1950_V.1.0.tif: 91.2MB [00:09, 9.62MB/s]                            \n",
            "/content/drive/MyDrive/AIRCentre/CHELSAcruts_precip_8_1950_V.1.0.tif:  89%|████████▊ | 92.3M/104M [00:11<00:02, 4.13MB/s]\n",
            "/content/drive/MyDrive/AIRCentre/CHELSAcruts_precip_5_1950_V.1.0.tif: 95.4MB [00:11, 8.42MB/s]                            \n",
            "/content/drive/MyDrive/AIRCentre/CHELSAcruts_precip_7_1950_V.1.0.tif:  97%|█████████▋| 103M/106M [00:13<00:00, 8.07MB/s]\n",
            "/content/drive/MyDrive/AIRCentre/CHELSAcruts_precip_7_1950_V.1.0.tif: 106MB [00:13, 8.28MB/s]                           \n",
            "/content/drive/MyDrive/AIRCentre/CHELSAcruts_precip_10_1950_V.1.0.tif: 97.4MB [00:08, 12.0MB/s]                            \n",
            "/content/drive/MyDrive/AIRCentre/CHELSAcruts_precip_11_1950_V.1.0.tif:  86%|████████▌ | 78.8M/92.1M [00:06<00:00, 15.7MB/s]\n",
            "/content/drive/MyDrive/AIRCentre/CHELSAcruts_precip_12_1950_V.1.0.tif: 86.9MB [00:07, 12.4MB/s]\n",
            "/content/drive/MyDrive/AIRCentre/CHELSAcruts_precip_11_1950_V.1.0.tif: 92.1MB [00:07, 12.4MB/s]                            \n",
            "/usr/local/lib/python3.10/dist-packages/rasterstats/io.py:328: NodataWarning: Setting nodata to -999; specify nodata explicitly\n",
            "  warnings.warn(\n"
          ]
        },
        {
          "output_type": "stream",
          "name": "stdout",
          "text": [
            "33.85616112087124\n",
            "102.45781655610037\n",
            "32.01205194430605\n",
            "62.34532737236804\n",
            "62.803276127295455\n",
            "44.09545957119508\n",
            "41.898482226359356\n",
            "90.58863985980369\n",
            "68.77713572121561\n",
            "34.611777932191835\n",
            "128.65712977773117\n",
            "94.52475941998584\n",
            "SpeciesID: 1, Country: France, AreaID: A295, Year: 1950, Yearly sum of rain: 796.6280176294237 (kg/m^2 or mm as you wish my darling), Driest month: 32.01205194430605\n"
          ]
        },
        {
          "output_type": "stream",
          "name": "stderr",
          "text": [
            "/content/drive/MyDrive/AIRCentre/CHELSAV21_precip_4_2005_V.1.0.tif:  99%|█████████▊| 803M/813M [00:51<00:00, 19.7MB/s]\n",
            "/content/drive/MyDrive/AIRCentre/CHELSAV21_precip_1_2005_V.1.0.tif: 812MB [00:51, 16.5MB/s]                           \n",
            "/content/drive/MyDrive/AIRCentre/CHELSAV21_precip_4_2005_V.1.0.tif: 813MB [00:51, 16.5MB/s]                           \n",
            "/content/drive/MyDrive/AIRCentre/CHELSAV21_precip_3_2005_V.1.0.tif: 836MB [00:52, 16.6MB/s]                           \n",
            "/content/drive/MyDrive/AIRCentre/CHELSAV21_precip_5_2005_V.1.0.tif: 840MB [01:05, 13.4MB/s]                           \n",
            "/content/drive/MyDrive/AIRCentre/CHELSAV21_precip_6_2005_V.1.0.tif: 100%|█████████▉| 848M/848M [01:05<00:00, 20.3MB/s]\n",
            "/content/drive/MyDrive/AIRCentre/CHELSAV21_precip_6_2005_V.1.0.tif: 848MB [01:05, 13.5MB/s]                           \n",
            "/content/drive/MyDrive/AIRCentre/CHELSAV21_precip_8_2005_V.1.0.tif: 856MB [01:06, 13.6MB/s]                           \n",
            "/content/drive/MyDrive/AIRCentre/CHELSAV21_precip_11_2005_V.1.0.tif: 810MB [01:02, 13.7MB/s]                           \n",
            "/content/drive/MyDrive/AIRCentre/CHELSAV21_precip_12_2005_V.1.0.tif: 801MB [01:01, 13.7MB/s]                           \n",
            "/content/drive/MyDrive/AIRCentre/CHELSAV21_precip_10_2005_V.1.0.tif: 841MB [01:04, 13.7MB/s]                           \n",
            "/content/drive/MyDrive/AIRCentre/CHELSAV21_precip_9_2005_V.1.0.tif: 845MB [01:05, 13.6MB/s]                           \n",
            "WARNING:rasterio._env:CPLE_AppDefined in The definition of geographic CRS EPSG:4326 got from GeoTIFF keys is not the same as the one from the EPSG registry, which may cause issues during reprojection operations. Set GTIFF_SRS_SOURCE configuration option to EPSG to use official parameters (overriding the ones from GeoTIFF keys), or to GEOKEYS to use custom values from GeoTIFF keys and drop the EPSG code.\n",
            "WARNING:rasterio._env:CPLE_AppDefined in The definition of geographic CRS EPSG:4326 got from GeoTIFF keys is not the same as the one from the EPSG registry, which may cause issues during reprojection operations. Set GTIFF_SRS_SOURCE configuration option to EPSG to use official parameters (overriding the ones from GeoTIFF keys), or to GEOKEYS to use custom values from GeoTIFF keys and drop the EPSG code.\n",
            "WARNING:rasterio._env:CPLE_AppDefined in The definition of geographic CRS EPSG:4326 got from GeoTIFF keys is not the same as the one from the EPSG registry, which may cause issues during reprojection operations. Set GTIFF_SRS_SOURCE configuration option to EPSG to use official parameters (overriding the ones from GeoTIFF keys), or to GEOKEYS to use custom values from GeoTIFF keys and drop the EPSG code.\n",
            "WARNING:rasterio._env:CPLE_AppDefined in The definition of geographic CRS EPSG:4326 got from GeoTIFF keys is not the same as the one from the EPSG registry, which may cause issues during reprojection operations. Set GTIFF_SRS_SOURCE configuration option to EPSG to use official parameters (overriding the ones from GeoTIFF keys), or to GEOKEYS to use custom values from GeoTIFF keys and drop the EPSG code.\n",
            "WARNING:rasterio._env:CPLE_AppDefined in The definition of geographic CRS EPSG:4326 got from GeoTIFF keys is not the same as the one from the EPSG registry, which may cause issues during reprojection operations. Set GTIFF_SRS_SOURCE configuration option to EPSG to use official parameters (overriding the ones from GeoTIFF keys), or to GEOKEYS to use custom values from GeoTIFF keys and drop the EPSG code.\n"
          ]
        },
        {
          "output_type": "stream",
          "name": "stdout",
          "text": [
            "11.421606852020007\n"
          ]
        },
        {
          "output_type": "stream",
          "name": "stderr",
          "text": [
            "WARNING:rasterio._env:CPLE_AppDefined in The definition of geographic CRS EPSG:4326 got from GeoTIFF keys is not the same as the one from the EPSG registry, which may cause issues during reprojection operations. Set GTIFF_SRS_SOURCE configuration option to EPSG to use official parameters (overriding the ones from GeoTIFF keys), or to GEOKEYS to use custom values from GeoTIFF keys and drop the EPSG code.\n",
            "WARNING:rasterio._env:CPLE_AppDefined in The definition of geographic CRS EPSG:4326 got from GeoTIFF keys is not the same as the one from the EPSG registry, which may cause issues during reprojection operations. Set GTIFF_SRS_SOURCE configuration option to EPSG to use official parameters (overriding the ones from GeoTIFF keys), or to GEOKEYS to use custom values from GeoTIFF keys and drop the EPSG code.\n",
            "WARNING:rasterio._env:CPLE_AppDefined in The definition of geographic CRS EPSG:4326 got from GeoTIFF keys is not the same as the one from the EPSG registry, which may cause issues during reprojection operations. Set GTIFF_SRS_SOURCE configuration option to EPSG to use official parameters (overriding the ones from GeoTIFF keys), or to GEOKEYS to use custom values from GeoTIFF keys and drop the EPSG code.\n"
          ]
        },
        {
          "output_type": "stream",
          "name": "stdout",
          "text": [
            "27.438726092157793\n"
          ]
        },
        {
          "output_type": "stream",
          "name": "stderr",
          "text": [
            "WARNING:rasterio._env:CPLE_AppDefined in The definition of geographic CRS EPSG:4326 got from GeoTIFF keys is not the same as the one from the EPSG registry, which may cause issues during reprojection operations. Set GTIFF_SRS_SOURCE configuration option to EPSG to use official parameters (overriding the ones from GeoTIFF keys), or to GEOKEYS to use custom values from GeoTIFF keys and drop the EPSG code.\n",
            "WARNING:rasterio._env:CPLE_AppDefined in The definition of geographic CRS EPSG:4326 got from GeoTIFF keys is not the same as the one from the EPSG registry, which may cause issues during reprojection operations. Set GTIFF_SRS_SOURCE configuration option to EPSG to use official parameters (overriding the ones from GeoTIFF keys), or to GEOKEYS to use custom values from GeoTIFF keys and drop the EPSG code.\n",
            "WARNING:rasterio._env:CPLE_AppDefined in The definition of geographic CRS EPSG:4326 got from GeoTIFF keys is not the same as the one from the EPSG registry, which may cause issues during reprojection operations. Set GTIFF_SRS_SOURCE configuration option to EPSG to use official parameters (overriding the ones from GeoTIFF keys), or to GEOKEYS to use custom values from GeoTIFF keys and drop the EPSG code.\n"
          ]
        },
        {
          "output_type": "stream",
          "name": "stdout",
          "text": [
            "64.98613590175985\n"
          ]
        },
        {
          "output_type": "stream",
          "name": "stderr",
          "text": [
            "WARNING:rasterio._env:CPLE_AppDefined in The definition of geographic CRS EPSG:4326 got from GeoTIFF keys is not the same as the one from the EPSG registry, which may cause issues during reprojection operations. Set GTIFF_SRS_SOURCE configuration option to EPSG to use official parameters (overriding the ones from GeoTIFF keys), or to GEOKEYS to use custom values from GeoTIFF keys and drop the EPSG code.\n",
            "WARNING:rasterio._env:CPLE_AppDefined in The definition of geographic CRS EPSG:4326 got from GeoTIFF keys is not the same as the one from the EPSG registry, which may cause issues during reprojection operations. Set GTIFF_SRS_SOURCE configuration option to EPSG to use official parameters (overriding the ones from GeoTIFF keys), or to GEOKEYS to use custom values from GeoTIFF keys and drop the EPSG code.\n",
            "WARNING:rasterio._env:CPLE_AppDefined in The definition of geographic CRS EPSG:4326 got from GeoTIFF keys is not the same as the one from the EPSG registry, which may cause issues during reprojection operations. Set GTIFF_SRS_SOURCE configuration option to EPSG to use official parameters (overriding the ones from GeoTIFF keys), or to GEOKEYS to use custom values from GeoTIFF keys and drop the EPSG code.\n"
          ]
        },
        {
          "output_type": "stream",
          "name": "stdout",
          "text": [
            "38.94349447255012\n"
          ]
        },
        {
          "output_type": "stream",
          "name": "stderr",
          "text": [
            "WARNING:rasterio._env:CPLE_AppDefined in The definition of geographic CRS EPSG:4326 got from GeoTIFF keys is not the same as the one from the EPSG registry, which may cause issues during reprojection operations. Set GTIFF_SRS_SOURCE configuration option to EPSG to use official parameters (overriding the ones from GeoTIFF keys), or to GEOKEYS to use custom values from GeoTIFF keys and drop the EPSG code.\n",
            "WARNING:rasterio._env:CPLE_AppDefined in The definition of geographic CRS EPSG:4326 got from GeoTIFF keys is not the same as the one from the EPSG registry, which may cause issues during reprojection operations. Set GTIFF_SRS_SOURCE configuration option to EPSG to use official parameters (overriding the ones from GeoTIFF keys), or to GEOKEYS to use custom values from GeoTIFF keys and drop the EPSG code.\n",
            "WARNING:rasterio._env:CPLE_AppDefined in The definition of geographic CRS EPSG:4326 got from GeoTIFF keys is not the same as the one from the EPSG registry, which may cause issues during reprojection operations. Set GTIFF_SRS_SOURCE configuration option to EPSG to use official parameters (overriding the ones from GeoTIFF keys), or to GEOKEYS to use custom values from GeoTIFF keys and drop the EPSG code.\n"
          ]
        },
        {
          "output_type": "stream",
          "name": "stdout",
          "text": [
            "39.30877098917571\n"
          ]
        },
        {
          "output_type": "stream",
          "name": "stderr",
          "text": [
            "WARNING:rasterio._env:CPLE_AppDefined in The definition of geographic CRS EPSG:4326 got from GeoTIFF keys is not the same as the one from the EPSG registry, which may cause issues during reprojection operations. Set GTIFF_SRS_SOURCE configuration option to EPSG to use official parameters (overriding the ones from GeoTIFF keys), or to GEOKEYS to use custom values from GeoTIFF keys and drop the EPSG code.\n",
            "WARNING:rasterio._env:CPLE_AppDefined in The definition of geographic CRS EPSG:4326 got from GeoTIFF keys is not the same as the one from the EPSG registry, which may cause issues during reprojection operations. Set GTIFF_SRS_SOURCE configuration option to EPSG to use official parameters (overriding the ones from GeoTIFF keys), or to GEOKEYS to use custom values from GeoTIFF keys and drop the EPSG code.\n",
            "WARNING:rasterio._env:CPLE_AppDefined in The definition of geographic CRS EPSG:4326 got from GeoTIFF keys is not the same as the one from the EPSG registry, which may cause issues during reprojection operations. Set GTIFF_SRS_SOURCE configuration option to EPSG to use official parameters (overriding the ones from GeoTIFF keys), or to GEOKEYS to use custom values from GeoTIFF keys and drop the EPSG code.\n"
          ]
        },
        {
          "output_type": "stream",
          "name": "stdout",
          "text": [
            "8.602264380738243\n"
          ]
        },
        {
          "output_type": "stream",
          "name": "stderr",
          "text": [
            "WARNING:rasterio._env:CPLE_AppDefined in The definition of geographic CRS EPSG:4326 got from GeoTIFF keys is not the same as the one from the EPSG registry, which may cause issues during reprojection operations. Set GTIFF_SRS_SOURCE configuration option to EPSG to use official parameters (overriding the ones from GeoTIFF keys), or to GEOKEYS to use custom values from GeoTIFF keys and drop the EPSG code.\n",
            "WARNING:rasterio._env:CPLE_AppDefined in The definition of geographic CRS EPSG:4326 got from GeoTIFF keys is not the same as the one from the EPSG registry, which may cause issues during reprojection operations. Set GTIFF_SRS_SOURCE configuration option to EPSG to use official parameters (overriding the ones from GeoTIFF keys), or to GEOKEYS to use custom values from GeoTIFF keys and drop the EPSG code.\n",
            "WARNING:rasterio._env:CPLE_AppDefined in The definition of geographic CRS EPSG:4326 got from GeoTIFF keys is not the same as the one from the EPSG registry, which may cause issues during reprojection operations. Set GTIFF_SRS_SOURCE configuration option to EPSG to use official parameters (overriding the ones from GeoTIFF keys), or to GEOKEYS to use custom values from GeoTIFF keys and drop the EPSG code.\n"
          ]
        },
        {
          "output_type": "stream",
          "name": "stdout",
          "text": [
            "8.68492433086868\n"
          ]
        },
        {
          "output_type": "stream",
          "name": "stderr",
          "text": [
            "WARNING:rasterio._env:CPLE_AppDefined in The definition of geographic CRS EPSG:4326 got from GeoTIFF keys is not the same as the one from the EPSG registry, which may cause issues during reprojection operations. Set GTIFF_SRS_SOURCE configuration option to EPSG to use official parameters (overriding the ones from GeoTIFF keys), or to GEOKEYS to use custom values from GeoTIFF keys and drop the EPSG code.\n",
            "WARNING:rasterio._env:CPLE_AppDefined in The definition of geographic CRS EPSG:4326 got from GeoTIFF keys is not the same as the one from the EPSG registry, which may cause issues during reprojection operations. Set GTIFF_SRS_SOURCE configuration option to EPSG to use official parameters (overriding the ones from GeoTIFF keys), or to GEOKEYS to use custom values from GeoTIFF keys and drop the EPSG code.\n",
            "WARNING:rasterio._env:CPLE_AppDefined in The definition of geographic CRS EPSG:4326 got from GeoTIFF keys is not the same as the one from the EPSG registry, which may cause issues during reprojection operations. Set GTIFF_SRS_SOURCE configuration option to EPSG to use official parameters (overriding the ones from GeoTIFF keys), or to GEOKEYS to use custom values from GeoTIFF keys and drop the EPSG code.\n"
          ]
        },
        {
          "output_type": "stream",
          "name": "stdout",
          "text": [
            "4.078974575171877\n"
          ]
        },
        {
          "output_type": "stream",
          "name": "stderr",
          "text": [
            "WARNING:rasterio._env:CPLE_AppDefined in The definition of geographic CRS EPSG:4326 got from GeoTIFF keys is not the same as the one from the EPSG registry, which may cause issues during reprojection operations. Set GTIFF_SRS_SOURCE configuration option to EPSG to use official parameters (overriding the ones from GeoTIFF keys), or to GEOKEYS to use custom values from GeoTIFF keys and drop the EPSG code.\n",
            "WARNING:rasterio._env:CPLE_AppDefined in The definition of geographic CRS EPSG:4326 got from GeoTIFF keys is not the same as the one from the EPSG registry, which may cause issues during reprojection operations. Set GTIFF_SRS_SOURCE configuration option to EPSG to use official parameters (overriding the ones from GeoTIFF keys), or to GEOKEYS to use custom values from GeoTIFF keys and drop the EPSG code.\n",
            "WARNING:rasterio._env:CPLE_AppDefined in The definition of geographic CRS EPSG:4326 got from GeoTIFF keys is not the same as the one from the EPSG registry, which may cause issues during reprojection operations. Set GTIFF_SRS_SOURCE configuration option to EPSG to use official parameters (overriding the ones from GeoTIFF keys), or to GEOKEYS to use custom values from GeoTIFF keys and drop the EPSG code.\n"
          ]
        },
        {
          "output_type": "stream",
          "name": "stdout",
          "text": [
            "19.259894063216155\n"
          ]
        },
        {
          "output_type": "stream",
          "name": "stderr",
          "text": [
            "WARNING:rasterio._env:CPLE_AppDefined in The definition of geographic CRS EPSG:4326 got from GeoTIFF keys is not the same as the one from the EPSG registry, which may cause issues during reprojection operations. Set GTIFF_SRS_SOURCE configuration option to EPSG to use official parameters (overriding the ones from GeoTIFF keys), or to GEOKEYS to use custom values from GeoTIFF keys and drop the EPSG code.\n",
            "WARNING:rasterio._env:CPLE_AppDefined in The definition of geographic CRS EPSG:4326 got from GeoTIFF keys is not the same as the one from the EPSG registry, which may cause issues during reprojection operations. Set GTIFF_SRS_SOURCE configuration option to EPSG to use official parameters (overriding the ones from GeoTIFF keys), or to GEOKEYS to use custom values from GeoTIFF keys and drop the EPSG code.\n",
            "WARNING:rasterio._env:CPLE_AppDefined in The definition of geographic CRS EPSG:4326 got from GeoTIFF keys is not the same as the one from the EPSG registry, which may cause issues during reprojection operations. Set GTIFF_SRS_SOURCE configuration option to EPSG to use official parameters (overriding the ones from GeoTIFF keys), or to GEOKEYS to use custom values from GeoTIFF keys and drop the EPSG code.\n"
          ]
        },
        {
          "output_type": "stream",
          "name": "stdout",
          "text": [
            "161.1987416583791\n"
          ]
        },
        {
          "output_type": "stream",
          "name": "stderr",
          "text": [
            "WARNING:rasterio._env:CPLE_AppDefined in The definition of geographic CRS EPSG:4326 got from GeoTIFF keys is not the same as the one from the EPSG registry, which may cause issues during reprojection operations. Set GTIFF_SRS_SOURCE configuration option to EPSG to use official parameters (overriding the ones from GeoTIFF keys), or to GEOKEYS to use custom values from GeoTIFF keys and drop the EPSG code.\n",
            "WARNING:rasterio._env:CPLE_AppDefined in The definition of geographic CRS EPSG:4326 got from GeoTIFF keys is not the same as the one from the EPSG registry, which may cause issues during reprojection operations. Set GTIFF_SRS_SOURCE configuration option to EPSG to use official parameters (overriding the ones from GeoTIFF keys), or to GEOKEYS to use custom values from GeoTIFF keys and drop the EPSG code.\n",
            "WARNING:rasterio._env:CPLE_AppDefined in The definition of geographic CRS EPSG:4326 got from GeoTIFF keys is not the same as the one from the EPSG registry, which may cause issues during reprojection operations. Set GTIFF_SRS_SOURCE configuration option to EPSG to use official parameters (overriding the ones from GeoTIFF keys), or to GEOKEYS to use custom values from GeoTIFF keys and drop the EPSG code.\n"
          ]
        },
        {
          "output_type": "stream",
          "name": "stdout",
          "text": [
            "94.63404224499503\n"
          ]
        },
        {
          "output_type": "stream",
          "name": "stderr",
          "text": [
            "WARNING:rasterio._env:CPLE_AppDefined in The definition of geographic CRS EPSG:4326 got from GeoTIFF keys is not the same as the one from the EPSG registry, which may cause issues during reprojection operations. Set GTIFF_SRS_SOURCE configuration option to EPSG to use official parameters (overriding the ones from GeoTIFF keys), or to GEOKEYS to use custom values from GeoTIFF keys and drop the EPSG code.\n"
          ]
        },
        {
          "output_type": "stream",
          "name": "stdout",
          "text": [
            "85.71193323820643\n",
            "SpeciesID: 2, Country: Portugal, AreaID: A398, Year: 2005, Yearly sum of rain: 564.269508799239 (kg/m^2 or mm as you wish my darling), Driest month: 4.078974575171877\n"
          ]
        }
      ]
    }
  ]
}