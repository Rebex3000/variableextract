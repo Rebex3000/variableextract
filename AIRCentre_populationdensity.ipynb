{
  "nbformat": 4,
  "nbformat_minor": 0,
  "metadata": {
    "colab": {
      "provenance": []
    },
    "kernelspec": {
      "name": "python3",
      "display_name": "Python 3"
    },
    "language_info": {
      "name": "python"
    }
  },
  "cells": [
    {
      "cell_type": "markdown",
      "source": [
        "<!DOCTYPE html>\n",
        "<html>\n",
        "<head>\n",
        "  <title>Population Density Image</title>\n",
        "</head>\n",
        "<body>\n",
        "  <h1>Extract Population Density from raster file</h1>\n",
        "  <p>Doxsey-Whitfield et al. (2015): Taking Advantage of the Improved Availability of Census Data: A First Look at the Gridded Population of the World, Version 4 (GPWv4)</p>\n",
        "\n",
        "  <img src=\"https://sedac.ciesin.columbia.edu/geoserver/ows?service=WMS&version=1.1.0&request=GetMap&bbox=-180,-60,180,85&width=375&height=151&srs=EPSG:4326&format=image%2Fpng&transparent=true&layers=gpw-v4:gpw-v4-population-density-rev11_2020,cartographic:national-boundaries\" alt=\"Population Density Image\">\n",
        "\n",
        "  <p>Variable: POP_DENS - AVERAGE POPULATION DENSITY in 2020</p>\n",
        "  <p>Resolution of tiff file: 15 Minute, approx. 30km</p>\n",
        "  <p>Source link: <a href=\"https://sedac.ciesin.columbia.edu/data/set/gpw-v4-population-density-rev11/data-download\">https://sedac.ciesin.columbia.edu/data/set/gpw-v4-population-density-rev11/data-download</a></p>\n",
        "\n",
        "  <p>Extract variables for whole countries based on country borders from shape file.</p>\n",
        "  <p>Requirements:</p>\n",
        "  <ul>\n",
        "    <li>Shapefile with country borders of the whole world with column \"AREAID\"</li>\n",
        "    <li>Table with column \"AREAID\"</li>\n",
        "  </ul>\n",
        "</body>\n",
        "</html>\n"
      ],
      "metadata": {
        "id": "m5PDs0W8nDyN"
      }
    },
    {
      "cell_type": "code",
      "execution_count": null,
      "metadata": {
        "id": "5ML3pCWriTFO",
        "colab": {
          "base_uri": "https://localhost:8080/"
        },
        "outputId": "4de6b4c1-bc64-4a9a-9a53-06b26ba18277"
      },
      "outputs": [
        {
          "output_type": "stream",
          "name": "stdout",
          "text": [
            "Mounted at /content/drive\n"
          ]
        }
      ],
      "source": [
        "# Mount drive\n",
        "from google.colab import drive\n",
        "drive.mount('/content/drive')"
      ]
    },
    {
      "cell_type": "code",
      "source": [
        "pip install geopandas"
      ],
      "metadata": {
        "id": "3PUfO1F3LX2I",
        "colab": {
          "base_uri": "https://localhost:8080/"
        },
        "outputId": "fcd78453-cda3-4994-c403-9c7c10fae28f"
      },
      "execution_count": null,
      "outputs": [
        {
          "output_type": "stream",
          "name": "stdout",
          "text": [
            "Looking in indexes: https://pypi.org/simple, https://us-python.pkg.dev/colab-wheels/public/simple/\n",
            "Collecting geopandas\n",
            "  Downloading geopandas-0.13.2-py3-none-any.whl (1.1 MB)\n",
            "\u001b[2K     \u001b[90m━━━━━━━━━━━━━━━━━━━━━━━━━━━━━━━━━━━━━━━━\u001b[0m \u001b[32m1.1/1.1 MB\u001b[0m \u001b[31m50.8 MB/s\u001b[0m eta \u001b[36m0:00:00\u001b[0m\n",
            "\u001b[?25hCollecting fiona>=1.8.19 (from geopandas)\n",
            "  Downloading Fiona-1.9.4.post1-cp310-cp310-manylinux_2_17_x86_64.manylinux2014_x86_64.whl (16.4 MB)\n",
            "\u001b[2K     \u001b[90m━━━━━━━━━━━━━━━━━━━━━━━━━━━━━━━━━━━━━━━\u001b[0m \u001b[32m16.4/16.4 MB\u001b[0m \u001b[31m110.0 MB/s\u001b[0m eta \u001b[36m0:00:00\u001b[0m\n",
            "\u001b[?25hRequirement already satisfied: packaging in /usr/local/lib/python3.10/dist-packages (from geopandas) (23.1)\n",
            "Requirement already satisfied: pandas>=1.1.0 in /usr/local/lib/python3.10/dist-packages (from geopandas) (1.5.3)\n",
            "Collecting pyproj>=3.0.1 (from geopandas)\n",
            "  Downloading pyproj-3.6.0-cp310-cp310-manylinux_2_17_x86_64.manylinux2014_x86_64.whl (7.9 MB)\n",
            "\u001b[2K     \u001b[90m━━━━━━━━━━━━━━━━━━━━━━━━━━━━━━━━━━━━━━━━\u001b[0m \u001b[32m7.9/7.9 MB\u001b[0m \u001b[31m119.6 MB/s\u001b[0m eta \u001b[36m0:00:00\u001b[0m\n",
            "\u001b[?25hRequirement already satisfied: shapely>=1.7.1 in /usr/local/lib/python3.10/dist-packages (from geopandas) (2.0.1)\n",
            "Requirement already satisfied: attrs>=19.2.0 in /usr/local/lib/python3.10/dist-packages (from fiona>=1.8.19->geopandas) (23.1.0)\n",
            "Requirement already satisfied: certifi in /usr/local/lib/python3.10/dist-packages (from fiona>=1.8.19->geopandas) (2022.12.7)\n",
            "Requirement already satisfied: click~=8.0 in /usr/local/lib/python3.10/dist-packages (from fiona>=1.8.19->geopandas) (8.1.3)\n",
            "Collecting click-plugins>=1.0 (from fiona>=1.8.19->geopandas)\n",
            "  Downloading click_plugins-1.1.1-py2.py3-none-any.whl (7.5 kB)\n",
            "Collecting cligj>=0.5 (from fiona>=1.8.19->geopandas)\n",
            "  Downloading cligj-0.7.2-py3-none-any.whl (7.1 kB)\n",
            "Requirement already satisfied: six in /usr/local/lib/python3.10/dist-packages (from fiona>=1.8.19->geopandas) (1.16.0)\n",
            "Requirement already satisfied: python-dateutil>=2.8.1 in /usr/local/lib/python3.10/dist-packages (from pandas>=1.1.0->geopandas) (2.8.2)\n",
            "Requirement already satisfied: pytz>=2020.1 in /usr/local/lib/python3.10/dist-packages (from pandas>=1.1.0->geopandas) (2022.7.1)\n",
            "Requirement already satisfied: numpy>=1.21.0 in /usr/local/lib/python3.10/dist-packages (from pandas>=1.1.0->geopandas) (1.22.4)\n",
            "Installing collected packages: pyproj, cligj, click-plugins, fiona, geopandas\n",
            "Successfully installed click-plugins-1.1.1 cligj-0.7.2 fiona-1.9.4.post1 geopandas-0.13.2 pyproj-3.6.0\n"
          ]
        }
      ]
    },
    {
      "cell_type": "code",
      "source": [
        "pip install rasterstats"
      ],
      "metadata": {
        "id": "UA_Y-cvCEzxb",
        "colab": {
          "base_uri": "https://localhost:8080/"
        },
        "outputId": "529f205c-622f-4357-de86-e998470801b2"
      },
      "execution_count": null,
      "outputs": [
        {
          "output_type": "stream",
          "name": "stdout",
          "text": [
            "Looking in indexes: https://pypi.org/simple, https://us-python.pkg.dev/colab-wheels/public/simple/\n",
            "Collecting rasterstats\n",
            "  Downloading rasterstats-0.19.0-py3-none-any.whl (16 kB)\n",
            "Collecting affine (from rasterstats)\n",
            "  Downloading affine-2.4.0-py3-none-any.whl (15 kB)\n",
            "Requirement already satisfied: click>7.1 in /usr/local/lib/python3.10/dist-packages (from rasterstats) (8.1.3)\n",
            "Requirement already satisfied: cligj>=0.4 in /usr/local/lib/python3.10/dist-packages (from rasterstats) (0.7.2)\n",
            "Requirement already satisfied: fiona in /usr/local/lib/python3.10/dist-packages (from rasterstats) (1.9.4.post1)\n",
            "Requirement already satisfied: numpy>=1.9 in /usr/local/lib/python3.10/dist-packages (from rasterstats) (1.22.4)\n",
            "Collecting rasterio>=1.0 (from rasterstats)\n",
            "  Downloading rasterio-1.3.7-cp310-cp310-manylinux_2_17_x86_64.manylinux2014_x86_64.whl (21.3 MB)\n",
            "\u001b[2K     \u001b[90m━━━━━━━━━━━━━━━━━━━━━━━━━━━━━━━━━━━━━━━━\u001b[0m \u001b[32m21.3/21.3 MB\u001b[0m \u001b[31m51.1 MB/s\u001b[0m eta \u001b[36m0:00:00\u001b[0m\n",
            "\u001b[?25hCollecting simplejson (from rasterstats)\n",
            "  Downloading simplejson-3.19.1-cp310-cp310-manylinux_2_5_x86_64.manylinux1_x86_64.manylinux_2_17_x86_64.manylinux2014_x86_64.whl (137 kB)\n",
            "\u001b[2K     \u001b[90m━━━━━━━━━━━━━━━━━━━━━━━━━━━━━━━━━━━━━━\u001b[0m \u001b[32m137.9/137.9 kB\u001b[0m \u001b[31m14.8 MB/s\u001b[0m eta \u001b[36m0:00:00\u001b[0m\n",
            "\u001b[?25hRequirement already satisfied: shapely in /usr/local/lib/python3.10/dist-packages (from rasterstats) (2.0.1)\n",
            "Requirement already satisfied: attrs in /usr/local/lib/python3.10/dist-packages (from rasterio>=1.0->rasterstats) (23.1.0)\n",
            "Requirement already satisfied: certifi in /usr/local/lib/python3.10/dist-packages (from rasterio>=1.0->rasterstats) (2022.12.7)\n",
            "Collecting snuggs>=1.4.1 (from rasterio>=1.0->rasterstats)\n",
            "  Downloading snuggs-1.4.7-py3-none-any.whl (5.4 kB)\n",
            "Requirement already satisfied: click-plugins in /usr/local/lib/python3.10/dist-packages (from rasterio>=1.0->rasterstats) (1.1.1)\n",
            "Requirement already satisfied: setuptools in /usr/local/lib/python3.10/dist-packages (from rasterio>=1.0->rasterstats) (67.7.2)\n",
            "Requirement already satisfied: six in /usr/local/lib/python3.10/dist-packages (from fiona->rasterstats) (1.16.0)\n",
            "Requirement already satisfied: pyparsing>=2.1.6 in /usr/local/lib/python3.10/dist-packages (from snuggs>=1.4.1->rasterio>=1.0->rasterstats) (3.0.9)\n",
            "Installing collected packages: snuggs, simplejson, affine, rasterio, rasterstats\n",
            "Successfully installed affine-2.4.0 rasterio-1.3.7 rasterstats-0.19.0 simplejson-3.19.1 snuggs-1.4.7\n"
          ]
        }
      ]
    },
    {
      "cell_type": "code",
      "source": [
        "pip install rasterio"
      ],
      "metadata": {
        "id": "EKTqIjhBE3jV",
        "colab": {
          "base_uri": "https://localhost:8080/"
        },
        "outputId": "17a1ed1c-6204-40d3-ad25-000654c067f5"
      },
      "execution_count": null,
      "outputs": [
        {
          "output_type": "stream",
          "name": "stdout",
          "text": [
            "Looking in indexes: https://pypi.org/simple, https://us-python.pkg.dev/colab-wheels/public/simple/\n",
            "Requirement already satisfied: rasterio in /usr/local/lib/python3.10/dist-packages (1.3.7)\n",
            "Requirement already satisfied: affine in /usr/local/lib/python3.10/dist-packages (from rasterio) (2.4.0)\n",
            "Requirement already satisfied: attrs in /usr/local/lib/python3.10/dist-packages (from rasterio) (23.1.0)\n",
            "Requirement already satisfied: certifi in /usr/local/lib/python3.10/dist-packages (from rasterio) (2022.12.7)\n",
            "Requirement already satisfied: click>=4.0 in /usr/local/lib/python3.10/dist-packages (from rasterio) (8.1.3)\n",
            "Requirement already satisfied: cligj>=0.5 in /usr/local/lib/python3.10/dist-packages (from rasterio) (0.7.2)\n",
            "Requirement already satisfied: numpy>=1.18 in /usr/local/lib/python3.10/dist-packages (from rasterio) (1.22.4)\n",
            "Requirement already satisfied: snuggs>=1.4.1 in /usr/local/lib/python3.10/dist-packages (from rasterio) (1.4.7)\n",
            "Requirement already satisfied: click-plugins in /usr/local/lib/python3.10/dist-packages (from rasterio) (1.1.1)\n",
            "Requirement already satisfied: setuptools in /usr/local/lib/python3.10/dist-packages (from rasterio) (67.7.2)\n",
            "Requirement already satisfied: pyparsing>=2.1.6 in /usr/local/lib/python3.10/dist-packages (from snuggs>=1.4.1->rasterio) (3.0.9)\n"
          ]
        }
      ]
    },
    {
      "cell_type": "code",
      "source": [
        "# import packages\n",
        "import pandas as pd\n",
        "import geopandas as gpd\n",
        "from rasterstats import zonal_stats\n",
        "import rasterio\n",
        "import matplotlib.pyplot as plt"
      ],
      "metadata": {
        "id": "MvDcd0u4n-Z4"
      },
      "execution_count": null,
      "outputs": []
    },
    {
      "cell_type": "markdown",
      "source": [
        "# Test files\n",
        "Own test file paths must be inserted here:"
      ],
      "metadata": {
        "id": "ETEwgQfoDxPh"
      }
    },
    {
      "cell_type": "code",
      "source": [
        "# load test files with less entries\n",
        "# table\n",
        "# df = pd.read_csv('/content/drive/MyDrive/AIRCentre/introductions_test.csv')\n",
        "# print(df.head())\n",
        "# shapefile that has only some regions in Europe\n",
        "#shapefile = gpd.read_file('/content/drive/MyDrive/AIRCentre/my_few_worldregions.shp')\n",
        "# print(shapefile.head())"
      ],
      "metadata": {
        "id": "drr2_6q9oKPB"
      },
      "execution_count": null,
      "outputs": []
    },
    {
      "cell_type": "markdown",
      "source": [
        "# Actual files\n",
        "Own actual file paths must be inserted here:"
      ],
      "metadata": {
        "id": "TfwML2ehDgju"
      }
    },
    {
      "cell_type": "code",
      "source": [
        "# load actual files\n",
        "# table\n",
        "df = pd.read_csv('/content/drive/MyDrive/AIRCentre/aedesalbopictus.csv')\n",
        "print(df.head())\n",
        "# shapefile with worldregions\n",
        "shapefile = gpd.read_file('/content/drive/MyDrive/AIRCentre/my_global_regions_rebecca230303.shp')\n",
        "print(shapefile.head())\n"
      ],
      "metadata": {
        "id": "JpikV4ikoMte",
        "colab": {
          "base_uri": "https://localhost:8080/"
        },
        "outputId": "3e0d7f1b-75fb-4159-cf5e-6359d79dd475"
      },
      "execution_count": null,
      "outputs": [
        {
          "output_type": "stream",
          "name": "stdout",
          "text": [
            "   SPECIESID           SPECIES AREAID  ISO                            NAME_0  \\\n",
            "0          1  Aedes albopictus   A505  USA               USA (North America)   \n",
            "1          2  Aedes albopictus   A501  BRA  Brazil (Central & South America)   \n",
            "2          3  Aedes albopictus   A224  ALB                  Albania (Europe)   \n",
            "3          4  Aedes albopictus   A328  ITA                    Italy (Europe)   \n",
            "4          5  Aedes albopictus   A295  FRA                   France (Europe)   \n",
            "\n",
            "   YEAR  PERIOD                               ORIGIN ESTABLISHED  \\\n",
            "0  1946    1940                   Philippines (Asia)           Y   \n",
            "1  1986    1980                               (Asia)           Y   \n",
            "2  1989    1980                         China (Asia)           Y   \n",
            "3  1990    1990                  USA (North America)           Y   \n",
            "4  1999    1990  Japan (Asia) or USA (North America)           Y   \n",
            "\n",
            "  dispersal_pathway  \n",
            "0        Used tyres  \n",
            "1        Used tyres  \n",
            "2        Used tyres  \n",
            "3        Used tyres  \n",
            "4        Used tyres  \n",
            "   ISO   NAME_0     NAME_1  MTemp  MTPrec AREAID       Realm  Island  \\\n",
            "0  RUS   Russia  Leningrad    4.4   661.5   A121  Palearctic       0   \n",
            "1  EST  Estonia        NaN    5.9   676.9   A289  Palearctic       0   \n",
            "2  DEU  Germany        NaN    9.1   726.6   A302  Palearctic       0   \n",
            "3  HTI    Haiti        NaN   25.0  1479.2   A315   Neotropic       1   \n",
            "4  MMR  Myanmar        NaN   23.3  1992.7   A370  Indomalaya       0   \n",
            "\n",
            "         ClimClass       AreaSqKm   AreaSqKmV2  \\\n",
            "0   T 0-10-Not Dry   84978.813375   85267.8962   \n",
            "1   T 0-10-Not Dry   45350.182019   45489.8873   \n",
            "2   T 0-10-Not Dry  357056.090045  357552.8398   \n",
            "3  T 20-30-Not Dry   27250.949018   27106.7498   \n",
            "4  T 20-30-Not Dry  672573.654153  669252.0962   \n",
            "\n",
            "                               layer  \\\n",
            "0  my_global_regions_rebecca230301V2   \n",
            "1  my_global_regions_rebecca230301V2   \n",
            "2  my_global_regions_rebecca230301V2   \n",
            "3  my_global_regions_rebecca230301V2   \n",
            "4  my_global_regions_rebecca230301V2   \n",
            "\n",
            "                                                path  \\\n",
            "0  /Users/rebeccapabst/Desktop/IGOT/data/MY_Globa...   \n",
            "1  /Users/rebeccapabst/Desktop/IGOT/data/MY_Globa...   \n",
            "2  /Users/rebeccapabst/Desktop/IGOT/data/MY_Globa...   \n",
            "3  /Users/rebeccapabst/Desktop/IGOT/data/MY_Globa...   \n",
            "4  /Users/rebeccapabst/Desktop/IGOT/data/MY_Globa...   \n",
            "\n",
            "                                            geometry  \n",
            "0  MULTIPOLYGON (((27.74048 58.99960, 27.74021 58...  \n",
            "1  MULTIPOLYGON (((23.27234 57.78022, 23.27231 57...  \n",
            "2  MULTIPOLYGON (((8.70128 47.71523, 8.70298 47.7...  \n",
            "3  MULTIPOLYGON (((-73.70541 18.10958, -73.70541 ...  \n",
            "4  MULTIPOLYGON (((97.79915 8.83028, 97.79944 8.8...  \n"
          ]
        }
      ]
    },
    {
      "cell_type": "markdown",
      "source": [
        "# Population Densitiy\n",
        "Variable: POP_DENS - AVERAGE POPULATION DENSITY in 2020 <br>\n",
        "Resolution of tiff file: 15 Minute, approx. 30km <br>\n",
        "Source link: https://sedac.ciesin.columbia.edu/data/set/gpw-v4-population-density-rev11/data-download <br>\n",
        "Download file from link, add to drive and paste file path here: <br>"
      ],
      "metadata": {
        "id": "7w1JaIf2DzO8"
      }
    },
    {
      "cell_type": "code",
      "source": [
        "# Load the TIFF file for worldpopulation\n",
        "tiff_path = '/content/drive/MyDrive/AIRCentre/gpw_v4_population_density_rev11_2020_15_min.tif'\n",
        "with rasterio.open(tiff_path, crs=shapefile.crs) as src:\n",
        "    tiff_crs = src.crs\n",
        "    # Read the image data\n",
        "    tiff_data = src.read(1)\n",
        "    # Plot the image\n",
        "    plt.imshow(tiff_data, cmap='viridis')\n",
        "    plt.colorbar()\n",
        "    plt.title('Population Density')\n",
        "    plt.show()\n"
      ],
      "metadata": {
        "colab": {
          "base_uri": "https://localhost:8080/",
          "height": 421
        },
        "id": "emVi9AdXDQiC",
        "outputId": "275d32bd-cb89-4905-f358-ec6ec6615d57"
      },
      "execution_count": null,
      "outputs": [
        {
          "output_type": "display_data",
          "data": {
            "text/plain": [
              "<Figure size 640x480 with 2 Axes>"
            ],
            "image/png": "[encoded data removed]"
          },
          "metadata": {}
        }
      ]
    },
    {
      "cell_type": "code",
      "source": [
        "# Reproject the shapefile to match the CRS of the TIFF file\n",
        "shapefile_reproj = shapefile.to_crs(tiff_crs)"
      ],
      "metadata": {
        "id": "AuN_BzsKNtc6"
      },
      "execution_count": null,
      "outputs": []
    },
    {
      "cell_type": "code",
      "source": [
        "# initialize the list of population density\n",
        "pop_dens = []\n",
        "\n",
        "# loop through each entry in the table (df)\n",
        "for index, row in df.iterrows():\n",
        "\n",
        "    # extract relevant data from the row\n",
        "    area_id = row['AREAID']\n",
        "    country_code = row['NAME_0']\n",
        "\n",
        "    # select the relevant region from the shapefile\n",
        "    region = shapefile_reproj.loc[shapefile_reproj['AREAID'] == area_id].iloc[0]\n",
        "\n",
        "    # zonal statistics\n",
        "    # extract mean population density for region from the tiff file\n",
        "    with rasterio.open(tiff_path, crs=shapefile.crs) as src:\n",
        "        affine = src.transform\n",
        "        stats = zonal_stats(region.geometry, tiff_path, affine=affine, stats=['mean'])\n",
        "        pop_dens.append(stats[0]['mean'])\n",
        "        print(country_code)\n",
        "        print(stats[0]['mean'])\n",
        "\n",
        "\n",
        "# append list of mean population density to the initial table as column\n",
        "df['POP_DENS'] = pop_dens\n"
      ],
      "metadata": {
        "colab": {
          "base_uri": "https://localhost:8080/"
        },
        "id": "4U130czlFCXy",
        "outputId": "448456a7-e774-433d-a85f-8904d21529fe"
      },
      "execution_count": null,
      "outputs": [
        {
          "output_type": "stream",
          "name": "stdout",
          "text": [
            "USA (North America)\n",
            "33.71645906727059\n",
            "Brazil (Central & South America)\n",
            "26.464703553835328\n",
            "Albania (Europe)\n",
            "102.63548309948979\n",
            "Italy (Europe)\n",
            "222.3853528674833\n",
            "France (Europe)\n",
            "129.59582004416094\n",
            "Guam (Australasia & Pacific Islands)\n",
            "434.6869812011719\n",
            "Indonesia (Australasia & Pacific Islands)\n",
            "153.5061199510404\n",
            "Papua New Guinea (Australasia & Pacific Islands)\n",
            "19.900408063616073\n",
            "Solomon Islands (Australasia & Pacific Islands)\n",
            "21.14157516891892\n",
            "Mexico (North America)\n",
            "70.5849174954792\n",
            "Fiji (Australasia & Pacific Islands)\n",
            "52.32808939615885\n",
            "Palestine (Middle East)\n",
            "786.5289713541666\n",
            "Cuba (Central & South America)\n",
            "110.38383374183006\n",
            "Cayman Islands (Central & South America)\n",
            "None\n",
            "Dominican Republic (Central & South America)\n",
            "216.92385912698413\n",
            "Colombia (Central & South America)\n",
            "55.48842905405405\n",
            "Argentina (Central & South America)\n",
            "16.975328486089296\n",
            "Honduras (Central & South America)\n",
            "85.09396484375\n",
            "Montenegro (Europe)\n",
            "49.279326171875\n",
            "Greece (Europe)\n",
            "65.6089126660628\n",
            "Croatia (Europe)\n",
            "76.99801974826389\n",
            "Bosnia & Herzegovina (Europe)\n",
            "64.42891792629077\n",
            "Monaco (Europe)\n",
            "None\n",
            "Slovenia (Europe)\n",
            "110.56129249366555\n",
            "San Marino (Europe)\n",
            "None\n",
            "Corsica\n",
            "33.43209457397461\n",
            "Greek Islands\n",
            "44.90136210123698\n",
            "Torres Strait\n",
            "4.924261569976807\n",
            "Malta (Europe)\n",
            "1376.768798828125\n",
            "Canada (North America)\n",
            "3.068318384200414\n",
            "Nicaragua (Central & South America)\n",
            "58.91995009934971\n",
            "Spain (Europe)\n",
            "99.99055448337292\n",
            "Panama (Central & South America)\n",
            "53.08900255259901\n",
            "Costa Rica (Central & South America)\n",
            "93.6367045969203\n",
            "Central African Republic (Africa)\n",
            "8.870695935582821\n",
            "Russia (Europe)\n",
            "6.9614598721819\n",
            "Turkey (Europe)\n",
            "104.90054201841903\n",
            "Romania (Europe)\n",
            "142.6782686378924\n",
            "Czech Republic (Europe)\n",
            "139.04282317546583\n",
            "Macedonia (Europe)\n",
            "85.65742902057927\n",
            "Armenia (Europe)\n",
            "95.19978994693396\n",
            "Ibiza\n",
            "280.1262478298611\n",
            "Tyrrhenian islands\n",
            "157.85258448401163\n",
            "Haiti (Central & South America)\n",
            "441.53816964285716\n",
            "Bulgaria (Europe)\n",
            "66.95301983173077\n",
            "Hungary (Europe)\n",
            "102.90831667877907\n",
            "Georgia (Europe)\n",
            "56.32878260458669\n",
            "Democratic Republic of Congo (Africa)\n",
            "52.502063879456706\n",
            "Sao Tome and Principe (Africa)\n",
            "192.5003662109375\n",
            "Gibraltar (Europe)\n",
            "None\n",
            "Portugal (Europe)\n",
            "121.76937181122449\n",
            "Nigeria (Africa)\n",
            "235.52484243697478\n",
            "El Salvador (Central & South America)\n",
            "326.20982142857144\n",
            "Guatemala (Central & South America)\n",
            "173.62808898492906\n",
            "Cameroon (Africa)\n",
            "59.82731770833333\n",
            "Equatorial Guinea (Africa)\n",
            "53.287638346354164\n",
            "Israel (Middle East)\n",
            "456.5122218276515\n",
            "Lebanon (Middle East)\n",
            "855.0059814453125\n",
            "Syria (Middle East)\n",
            "140.37074829931973\n",
            "Gabon (Africa)\n",
            "10.249279504534842\n",
            "Belize (Central & South America)\n",
            "18.770193388967805\n",
            "Venezuela (Central & South America)\n",
            "36.402232795530495\n",
            "Mali (Africa)\n",
            "18.220608101919694\n",
            "Algeria (Africa)\n",
            "19.9522577092511\n",
            "Tonga (Australasia & Pacific Islands)\n",
            "111.49176181891026\n",
            "Morocco (Africa)\n",
            "77.69773362619809\n",
            "Jordan (Middle East)\n",
            "86.87623002146947\n",
            "Germany\n",
            "221.7515182186235\n"
          ]
        }
      ]
    },
    {
      "cell_type": "markdown",
      "source": [
        "# Export Result"
      ],
      "metadata": {
        "id": "t1LpJawjFQJN"
      }
    },
    {
      "cell_type": "code",
      "source": [
        "# save the DataFrame to an Excel file\n",
        "df.to_excel('/content/drive/MyDrive/AIRCentre/population_density.xlsx', index=False)\n"
      ],
      "metadata": {
        "id": "_w53jugxui6E"
      },
      "execution_count": null,
      "outputs": []
    }
  ]
}