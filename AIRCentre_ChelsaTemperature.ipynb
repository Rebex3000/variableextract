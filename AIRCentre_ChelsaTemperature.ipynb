{
  "nbformat": 4,
  "nbformat_minor": 0,
  "metadata": {
    "colab": {
      "provenance": [],
      "mount_file_id": "12D4nPDKePajp6bEp8xsJTi0BpNqtjdQa",
      "authorship_tag": "ABX9TyN2BhQREBUUNivFP8YSVaZK",
      "include_colab_link": true
    },
    "kernelspec": {
      "name": "python3",
      "display_name": "Python 3"
    },
    "language_info": {
      "name": "python"
    }
  },
  "cells": [
    {
      "cell_type": "markdown",
      "metadata": {
        "id": "view-in-github",
        "colab_type": "text"
      },
      "source": [
        "<a href=\"https://colab.research.google.com/github/Rebex3000/variableextract/blob/main/AIRCentre_ChelsaTemperature.ipynb\" target=\"_parent\"><img src=\"https://colab.research.google.com/assets/colab-badge.svg\" alt=\"Open In Colab\"/></a>"
      ]
    },
    {
      "cell_type": "markdown",
      "source": [
        "<!DOCTYPE html>\n",
        "<html>\n",
        "<body>\n",
        "  <h1>Extract climate variables from chelsa, code includes to download raster file with the matching year from chelsa server </h1>\n",
        "  <p>Karger, D.N., Conrad, O., Böhner, J., Kawohl, T., Kreft, H., Soria-Auza, R.W., Zimmermann, N.E., Linder, P., Kessler, M. (2017): Climatologies at high resolution for the Earth land surface areas. Scientific Data. 4 170122. https://doi.org/10.1038/sdata.2017.122  </p>\n",
        "\n",
        "  <img src=\"https://chelsa-climate.org/wp-content/uploads/2016/02/logotest3.gif\">\n",
        "\n",
        "\n",
        "  <p>Variable: monthly average temperature (°C)</p>\n",
        "  <p>Resolution of tiff file: 30 seconds, approx. 1 km</p>\n",
        "\n",
        "  <p> Chelsa has two data sets for average monthly climate variables. <br>\n",
        "  1. Historical climate: CHELSAcruts (1901-2016) link: <a> https://chelsa-climate.org/chelsacruts/</a><br>\n",
        "  2. Recent climate (1980-2019) link: <a> https://envicloud.wsl.ch/#/?prefix=chelsa%2Fchelsa_V2%2FGLOBAL%2F </a>  </p>\n",
        "\n",
        "  <p>Extract variables for whole countries based on country borders from shape file.</p>\n",
        "  <p>Requirements:</p>\n",
        "  <ul>\n",
        "    <li>Shapefile with country borders of the whole world with column \"AREAID\"</li>\n",
        "    <li>Table with columns \"AREAID\", \"NAME_0\", \"SPECIESID\", and \"YEAR\"</li>\n",
        "  </ul>\n",
        "  <p>Note: This code example is for maximum temperature, same works for the minimum temperature but download link and  variable names have to be changed. </p>\n",
        "</body>\n",
        "</html>\n"
      ],
      "metadata": {
        "id": "m5PDs0W8nDyN"
      }
    },
    {
      "cell_type": "code",
      "execution_count": null,
      "metadata": {
        "id": "5ML3pCWriTFO",
        "colab": {
          "base_uri": "https://localhost:8080/"
        },
        "outputId": "19bc20bc-de9e-46e2-db9a-396aa4f2a020"
      },
      "outputs": [
        {
          "output_type": "stream",
          "name": "stdout",
          "text": [
            "Mounted at /content/drive\n"
          ]
        }
      ],
      "source": [
        "# Mount drive\n",
        "from google.colab import drive\n",
        "drive.mount('/content/drive')"
      ]
    },
    {
      "cell_type": "code",
      "source": [
        "pip install geopandas"
      ],
      "metadata": {
        "colab": {
          "base_uri": "https://localhost:8080/"
        },
        "id": "2VFGbx8S-Wbu",
        "outputId": "31ed0346-1a18-408e-d929-18e8cfba8371"
      },
      "execution_count": null,
      "outputs": [
        {
          "output_type": "stream",
          "name": "stdout",
          "text": [
            "Looking in indexes: https://pypi.org/simple, https://us-python.pkg.dev/colab-wheels/public/simple/\n",
            "Collecting geopandas\n",
            "  Downloading geopandas-0.13.2-py3-none-any.whl (1.1 MB)\n",
            "\u001b[2K     \u001b[90m━━━━━━━━━━━━━━━━━━━━━━━━━━━━━━━━━━━━━━━━\u001b[0m \u001b[32m1.1/1.1 MB\u001b[0m \u001b[31m22.5 MB/s\u001b[0m eta \u001b[36m0:00:00\u001b[0m\n",
            "\u001b[?25hCollecting fiona>=1.8.19 (from geopandas)\n",
            "  Downloading Fiona-1.9.4.post1-cp310-cp310-manylinux_2_17_x86_64.manylinux2014_x86_64.whl (16.4 MB)\n",
            "\u001b[2K     \u001b[90m━━━━━━━━━━━━━━━━━━━━━━━━━━━━━━━━━━━━━━━\u001b[0m \u001b[32m16.4/16.4 MB\u001b[0m \u001b[31m104.6 MB/s\u001b[0m eta \u001b[36m0:00:00\u001b[0m\n",
            "\u001b[?25hRequirement already satisfied: packaging in /usr/local/lib/python3.10/dist-packages (from geopandas) (23.1)\n",
            "Requirement already satisfied: pandas>=1.1.0 in /usr/local/lib/python3.10/dist-packages (from geopandas) (1.5.3)\n",
            "Collecting pyproj>=3.0.1 (from geopandas)\n",
            "  Downloading pyproj-3.6.0-cp310-cp310-manylinux_2_17_x86_64.manylinux2014_x86_64.whl (7.9 MB)\n",
            "\u001b[2K     \u001b[90m━━━━━━━━━━━━━━━━━━━━━━━━━━━━━━━━━━━━━━━━\u001b[0m \u001b[32m7.9/7.9 MB\u001b[0m \u001b[31m133.2 MB/s\u001b[0m eta \u001b[36m0:00:00\u001b[0m\n",
            "\u001b[?25hRequirement already satisfied: shapely>=1.7.1 in /usr/local/lib/python3.10/dist-packages (from geopandas) (2.0.1)\n",
            "Requirement already satisfied: attrs>=19.2.0 in /usr/local/lib/python3.10/dist-packages (from fiona>=1.8.19->geopandas) (23.1.0)\n",
            "Requirement already satisfied: certifi in /usr/local/lib/python3.10/dist-packages (from fiona>=1.8.19->geopandas) (2022.12.7)\n",
            "Requirement already satisfied: click~=8.0 in /usr/local/lib/python3.10/dist-packages (from fiona>=1.8.19->geopandas) (8.1.3)\n",
            "Collecting click-plugins>=1.0 (from fiona>=1.8.19->geopandas)\n",
            "  Downloading click_plugins-1.1.1-py2.py3-none-any.whl (7.5 kB)\n",
            "Collecting cligj>=0.5 (from fiona>=1.8.19->geopandas)\n",
            "  Downloading cligj-0.7.2-py3-none-any.whl (7.1 kB)\n",
            "Requirement already satisfied: six in /usr/local/lib/python3.10/dist-packages (from fiona>=1.8.19->geopandas) (1.16.0)\n",
            "Requirement already satisfied: python-dateutil>=2.8.1 in /usr/local/lib/python3.10/dist-packages (from pandas>=1.1.0->geopandas) (2.8.2)\n",
            "Requirement already satisfied: pytz>=2020.1 in /usr/local/lib/python3.10/dist-packages (from pandas>=1.1.0->geopandas) (2022.7.1)\n",
            "Requirement already satisfied: numpy>=1.21.0 in /usr/local/lib/python3.10/dist-packages (from pandas>=1.1.0->geopandas) (1.22.4)\n",
            "Installing collected packages: pyproj, cligj, click-plugins, fiona, geopandas\n",
            "Successfully installed click-plugins-1.1.1 cligj-0.7.2 fiona-1.9.4.post1 geopandas-0.13.2 pyproj-3.6.0\n"
          ]
        }
      ]
    },
    {
      "cell_type": "code",
      "source": [
        "pip install rasterstats"
      ],
      "metadata": {
        "colab": {
          "base_uri": "https://localhost:8080/"
        },
        "id": "fR7r2yVg-p5k",
        "outputId": "41a19597-a0aa-4c66-aef5-b508cdf411a7"
      },
      "execution_count": null,
      "outputs": [
        {
          "output_type": "stream",
          "name": "stdout",
          "text": [
            "Looking in indexes: https://pypi.org/simple, https://us-python.pkg.dev/colab-wheels/public/simple/\n",
            "Collecting rasterstats\n",
            "  Downloading rasterstats-0.19.0-py3-none-any.whl (16 kB)\n",
            "Collecting affine (from rasterstats)\n",
            "  Downloading affine-2.4.0-py3-none-any.whl (15 kB)\n",
            "Requirement already satisfied: click>7.1 in /usr/local/lib/python3.10/dist-packages (from rasterstats) (8.1.3)\n",
            "Requirement already satisfied: cligj>=0.4 in /usr/local/lib/python3.10/dist-packages (from rasterstats) (0.7.2)\n",
            "Requirement already satisfied: fiona in /usr/local/lib/python3.10/dist-packages (from rasterstats) (1.9.4.post1)\n",
            "Requirement already satisfied: numpy>=1.9 in /usr/local/lib/python3.10/dist-packages (from rasterstats) (1.22.4)\n",
            "Collecting rasterio>=1.0 (from rasterstats)\n",
            "  Downloading rasterio-1.3.7-cp310-cp310-manylinux_2_17_x86_64.manylinux2014_x86_64.whl (21.3 MB)\n",
            "\u001b[2K     \u001b[90m━━━━━━━━━━━━━━━━━━━━━━━━━━━━━━━━━━━━━━━━\u001b[0m \u001b[32m21.3/21.3 MB\u001b[0m \u001b[31m22.8 MB/s\u001b[0m eta \u001b[36m0:00:00\u001b[0m\n",
            "\u001b[?25hCollecting simplejson (from rasterstats)\n",
            "  Downloading simplejson-3.19.1-cp310-cp310-manylinux_2_5_x86_64.manylinux1_x86_64.manylinux_2_17_x86_64.manylinux2014_x86_64.whl (137 kB)\n",
            "\u001b[2K     \u001b[90m━━━━━━━━━━━━━━━━━━━━━━━━━━━━━━━━━━━━━━\u001b[0m \u001b[32m137.9/137.9 kB\u001b[0m \u001b[31m15.2 MB/s\u001b[0m eta \u001b[36m0:00:00\u001b[0m\n",
            "\u001b[?25hRequirement already satisfied: shapely in /usr/local/lib/python3.10/dist-packages (from rasterstats) (2.0.1)\n",
            "Requirement already satisfied: attrs in /usr/local/lib/python3.10/dist-packages (from rasterio>=1.0->rasterstats) (23.1.0)\n",
            "Requirement already satisfied: certifi in /usr/local/lib/python3.10/dist-packages (from rasterio>=1.0->rasterstats) (2022.12.7)\n",
            "Collecting snuggs>=1.4.1 (from rasterio>=1.0->rasterstats)\n",
            "  Downloading snuggs-1.4.7-py3-none-any.whl (5.4 kB)\n",
            "Requirement already satisfied: click-plugins in /usr/local/lib/python3.10/dist-packages (from rasterio>=1.0->rasterstats) (1.1.1)\n",
            "Requirement already satisfied: setuptools in /usr/local/lib/python3.10/dist-packages (from rasterio>=1.0->rasterstats) (67.7.2)\n",
            "Requirement already satisfied: six in /usr/local/lib/python3.10/dist-packages (from fiona->rasterstats) (1.16.0)\n",
            "Requirement already satisfied: pyparsing>=2.1.6 in /usr/local/lib/python3.10/dist-packages (from snuggs>=1.4.1->rasterio>=1.0->rasterstats) (3.0.9)\n",
            "Installing collected packages: snuggs, simplejson, affine, rasterio, rasterstats\n",
            "Successfully installed affine-2.4.0 rasterio-1.3.7 rasterstats-0.19.0 simplejson-3.19.1 snuggs-1.4.7\n"
          ]
        }
      ]
    },
    {
      "cell_type": "code",
      "source": [
        "# import packages\n",
        "import multiprocessing\n",
        "import pandas as pd\n",
        "import geopandas as gpd\n",
        "from rasterstats import zonal_stats\n",
        "import rasterio\n",
        "import os\n",
        "import urllib.request\n",
        "import time\n",
        "from tqdm import tqdm"
      ],
      "metadata": {
        "id": "MvDcd0u4n-Z4"
      },
      "execution_count": null,
      "outputs": []
    },
    {
      "cell_type": "markdown",
      "source": [
        "## Define path to download the right file (corresponding year to introduction if species into new region)\n",
        "! Do not change file paths !"
      ],
      "metadata": {
        "id": "3Od-CIgh-H2y"
      }
    },
    {
      "cell_type": "code",
      "source": [
        "def downloadYearlyData(m, year, output_dir):\n",
        "    if year < 1980:\n",
        "        tiff_file_name = os.path.join(output_dir, f'CHELSAcruts_tmax_{m}_{year}_V.1.0.tif')\n",
        "        if os.path.exists(tiff_file_name):\n",
        "            return tiff_file_name\n",
        "        tiff_url = 'https://os.zhdk.cloud.switch.ch/envicloud/chelsa/chelsa_V1/chelsa_cruts/tmax/CHELSAcruts_tmax_{}_{}_V.1.0.tif'.format(m,year)\n",
        "\n",
        "    elif 1979 < year < 2020:\n",
        "        tiff_file_name = os.path.join(output_dir, f'CHELSAV21_tasmax_{m}_{year}_V.2.1.tif')\n",
        "        if os.path.exists(tiff_file_name):\n",
        "            return tiff_file_name\n",
        "        tiff_url = 'https://os.zhdk.cloud.switch.ch/envicloud/chelsa/chelsa_V2/GLOBAL/monthly/tasmax/CHELSA_tasmax_{:02d}_{}_V.2.1.tif'.format(m,year)\n",
        "\n",
        "    # get the file size\n",
        "    with urllib.request.urlopen(tiff_url) as response:\n",
        "        file_size = int(response.info().get('Content-Length'))\n",
        "\n",
        "        # retry the download up to three times\n",
        "        max_retry = 3\n",
        "        retry_count = 0\n",
        "        while retry_count < max_retry:\n",
        "            try:\n",
        "                # download the file with tqdm progress bar\n",
        "                with tqdm(unit='B', unit_scale=True, unit_divisor=1024, miniters=1, desc=tiff_file_name,\n",
        "                          total=file_size) as progress_bar:\n",
        "                    urllib.request.urlretrieve(tiff_url, tiff_file_name,\n",
        "                                               reporthook=lambda b, bsize, t: progress_bar.update(bsize))\n",
        "                return tiff_file_name\n",
        "            except:\n",
        "                # wait for 60 seconds and try again\n",
        "                time.sleep(60)\n",
        "                retry_count += 1\n",
        "\n",
        "        # raise an error if all retries failed\n",
        "        raise Exception('Failed to download {}'.format(tiff_url))"
      ],
      "metadata": {
        "id": "0hiLKysx-Glj"
      },
      "execution_count": null,
      "outputs": []
    },
    {
      "cell_type": "markdown",
      "source": [
        "## Define zonal statistics depending of the data source, as they have different formats.\n",
        "Only choose the chelsacruts data set if needed, as the recent data set is more accurate."
      ],
      "metadata": {
        "id": "eOf8z8ooAG02"
      }
    },
    {
      "cell_type": "code",
      "source": [
        "def readTiff(tiff_file_name, year):\n",
        "    if year < 1980:\n",
        "        with rasterio.open(tiff_file_name) as src:\n",
        "            affine = src.transform\n",
        "            stats = zonal_stats(region.geometry, tiff_file_name, affine=affine, stats=['mean'])\n",
        "            monthly_tmax.append(stats[0]['mean'] * 0.1)\n",
        "            print(stats[0]['mean'] * 0.1)\n",
        "\n",
        "\n",
        "    elif 1979 < year < 2020:\n",
        "        with rasterio.open(tiff_file_name) as src:\n",
        "            affine = src.transform\n",
        "            stats = zonal_stats(region.geometry, tiff_file_name, affine=affine, stats=['mean'])\n",
        "            monthly_tmax.append(stats[0]['mean'] * 0.1 - 273.15)\n",
        "            print(stats[0]['mean'] * 0.1 - 273.15)\n",
        "  # os.remove(tiff_file_name)"
      ],
      "metadata": {
        "id": "Jj5ONiJs__Ex"
      },
      "execution_count": null,
      "outputs": []
    },
    {
      "cell_type": "markdown",
      "source": [
        "## Own file paths must be inserted here, wherever nescessary:\n",
        "This part will create a yearly average maximum temperature for the year of introduction of a species into a new region, as well as a value for the average temperature of the hottest month of that year.\n",
        "\n",
        "\n"
      ],
      "metadata": {
        "id": "f6FfTFWVAfNu"
      }
    },
    {
      "cell_type": "code",
      "source": [
        "\n",
        "if __name__ == '__main__':\n",
        "    #55555 = no data can not find URL\n",
        "    #999 = no data because introduction is after 2019\n",
        "\n",
        "    # # Load test CSV table\n",
        "    df = pd.read_csv('/content/drive/MyDrive/AIRCentre/introductions_test.csv')\n",
        "\n",
        "    # # Load real CSV table\n",
        "    #df = pd.read_csv('/content/drive/MyDrive/AIRCentre/aedesalbopictus.csv')\n",
        "    print(df.head())\n",
        "\n",
        "    # # Load test shapefile of the regions\n",
        "    shapefile = gpd.read_file('/content/drive/MyDrive/AIRCentre/my_few_worldregions.shp', crs='EPSG:4326')\n",
        "\n",
        "    # # Load shapefile of the global regions\n",
        "    # shapefile = gpd.read_file('/content/drive/MyDrive/AIRCentre/my_global_regions_rebecca230303.shp', crs='EPSG:4326')\n",
        "    print(shapefile.head())\n",
        "\n",
        "    # # list of the respective annual average maximum temperatures\n",
        "    tmax = []\n",
        "    hottest_month = []\n",
        "\n",
        "    # specify the directory to save the files\n",
        "    output_dir = '/content/drive/MyDrive/AIRCentre'\n",
        "\n",
        "    # # loop through each entry in the csv table\n",
        "    for index, row in df.iterrows():\n",
        "        # extract relevant data from the row\n",
        "        species_id = row['SPECIESID']\n",
        "        area_id = row['AREAID']\n",
        "        country = row['NAME_0']\n",
        "        year = row['YEAR']\n",
        "\n",
        "        # skip the loop iteration if the country is null or missing\n",
        "        if pd.isnull(country):\n",
        "            continue\n",
        "\n",
        "        # select the relevant region from the shapefile\n",
        "        region = shapefile.loc[shapefile['AREAID'] == area_id].iloc[0]\n",
        "\n",
        "        # initialize list of monthly average maximum temperatures\n",
        "        monthly_tmax = []\n",
        "\n",
        "        try:\n",
        "            with multiprocessing.Pool(processes=6) as pool:\n",
        "                # apply the function to each month in parallel\n",
        "                results = []\n",
        "                for m in range(1, 13):\n",
        "                    results.append(pool.apply_async(downloadYearlyData, args=(m, year, output_dir)))\n",
        "\n",
        "                # wait for all processes to finish\n",
        "                for r in results:\n",
        "                    r.wait()\n",
        "\n",
        "                for m in range(1, 13):\n",
        "                    readTiff(tiff_file_name=downloadYearlyData(m, year, output_dir), year=year)\n",
        "\n",
        "            # calculate the yearly average temperature and append to the list of yearly values\n",
        "            tmax.append(sum(monthly_tmax) / len(monthly_tmax))\n",
        "            hottest_month.append(max(monthly_tmax))\n",
        "\n",
        "            # print the result\n",
        "            print(f\"SpeciesID: {species_id}, Country: {country}, AreaID: {area_id}, Year: {year}, Mean tmax: {sum(monthly_tmax) / len(monthly_tmax)}, Highest value: {max(monthly_tmax)}\")\n",
        "\n",
        "\n",
        "        except:\n",
        "            # if url is not found or introduction later than 2019, in order to not lose the data\n",
        "            tmax.append(9999)\n",
        "            hottest_month.append(9999)\n",
        "            dferror = pd.DataFrame(tmax, hottest_month, columns=['MEAN_TMAX_OFYEAR', 'MEAN_TMAX_hottestMONTH'])\n",
        "            dferror.to_excel('/content/drive/MyDrive/AIRCentre/tmax_except_result.xlsx', index=False)\n",
        "\n",
        "    # append tmax to initial table\n",
        "    df['MEAN_TMAX_OFYEAR'] = tmax\n",
        "    df['MEAN_TMAX_HOTTESTMONTH'] = hottest_month\n",
        "\n",
        "    # save the DataFrame to an Excel file\n",
        "    df.to_excel('/content/drive/MyDrive/AIRCentre/tmax.xlsx', index=False)\n",
        "\n"
      ],
      "metadata": {
        "colab": {
          "base_uri": "https://localhost:8080/"
        },
        "id": "ucs5tLp1AgB2",
        "outputId": "e70892fe-c0e3-4f58-83dd-562782fd3aec"
      },
      "execution_count": null,
      "outputs": [
        {
          "output_type": "stream",
          "name": "stdout",
          "text": [
            "   SPECIESID            SPECIES AREAID  ISO    NAME_0  YEAR\n",
            "0          1  Aedes albopictus    A295  FRA    France  1950\n",
            "1          2   Aedes albopictus   A398  PRT  Portugal  2005\n",
            "   ISO       NAME_0  NAME_1  MTemp  MTPrec AREAID       Realm  Island  \\\n",
            "0  DEU      Germany     NaN    9.1   726.6   A302  Palearctic       0   \n",
            "1  GRC       Greece     NaN   14.2   618.9   A305  Palearctic       0   \n",
            "2  NLD  Netherlands     NaN   10.0   801.2   A374  Palearctic       0   \n",
            "3  PRT     Portugal     NaN   15.5   820.7   A398  Palearctic       0   \n",
            "4  SYC   Seychelles     NaN   27.0  1460.7   A418  Afrotropic       1   \n",
            "\n",
            "         ClimClass       AreaSqKm   AreaSqKmV2  \\\n",
            "0   T 0-10-Not Dry  357056.090045  357552.8398   \n",
            "1  T 10-20-Not Dry  132747.841923  132561.6183   \n",
            "2   T 0-10-Not Dry   37602.902495   37665.8118   \n",
            "3  T 10-20-Not Dry   91995.322515   91878.0332   \n",
            "4  T 20-30-Not Dry     494.407466     491.2000   \n",
            "\n",
            "                                            geometry  \n",
            "0  MULTIPOLYGON (((8.70128 47.71523, 8.70298 47.7...  \n",
            "1  MULTIPOLYGON (((24.06569 34.87264, 24.06569 34...  \n",
            "2  MULTIPOLYGON (((3.51528 51.40736, 3.51528 51.4...  \n",
            "3  MULTIPOLYGON (((-16.05835 30.03020, -16.05837 ...  \n",
            "4  MULTIPOLYGON (((51.13340 -10.22162, 51.13340 -...  \n"
          ]
        },
        {
          "output_type": "stream",
          "name": "stderr",
          "text": [
            "/content/drive/MyDrive/AIRCentre/CHELSAcruts_tmax_10_1950_V.1.0.tif: 96.2MB [00:06, 14.8MB/s]                            \n",
            "/content/drive/MyDrive/AIRCentre/CHELSAcruts_tmax_9_1950_V.1.0.tif: 97.4MB [00:07, 14.4MB/s]                            \n",
            "/usr/local/lib/python3.10/dist-packages/rasterstats/io.py:328: NodataWarning: Setting nodata to -999; specify nodata explicitly\n",
            "  warnings.warn(\n"
          ]
        },
        {
          "output_type": "stream",
          "name": "stdout",
          "text": [
            "4.693526518429173\n",
            "9.208873928206204\n",
            "11.39848889092832\n",
            "11.740774160701331\n",
            "18.388211688561416\n",
            "23.14456105619215\n",
            "24.580926986915596\n",
            "22.714639435893403\n",
            "17.62720564456215\n",
            "13.827685056506803\n",
            "9.675724580678432\n",
            "2.6615294858011906\n",
            "SpeciesID: 1, Country: France, AreaID: A295, Year: 1950, Mean tmax: 14.13851228611468, Highest value: 24.580926986915596\n"
          ]
        },
        {
          "output_type": "stream",
          "name": "stderr",
          "text": [
            "/content/drive/MyDrive/AIRCentre/CHELSAV21_tasmax_2_2005_V.2.1.tif: 133MB [00:10, 13.0MB/s]                           \n",
            "/content/drive/MyDrive/AIRCentre/CHELSAV21_tasmax_1_2005_V.2.1.tif: 131MB [00:10, 13.3MB/s]                           \n",
            "/content/drive/MyDrive/AIRCentre/CHELSAV21_tasmax_3_2005_V.2.1.tif: 137MB [00:10, 13.4MB/s]                           \n",
            "/content/drive/MyDrive/AIRCentre/CHELSAV21_tasmax_4_2005_V.2.1.tif: 140MB [00:10, 13.5MB/s]                           \n",
            "/content/drive/MyDrive/AIRCentre/CHELSAV21_tasmax_5_2005_V.2.1.tif: 143MB [00:10, 13.6MB/s]                           \n",
            "/content/drive/MyDrive/AIRCentre/CHELSAV21_tasmax_6_2005_V.2.1.tif: 145MB [00:11, 13.4MB/s]                           \n",
            "/content/drive/MyDrive/AIRCentre/CHELSAV21_tasmax_9_2005_V.2.1.tif: 144MB [00:18, 8.29MB/s]                           \n",
            "\n",
            "/content/drive/MyDrive/AIRCentre/CHELSAV21_tasmax_7_2005_V.2.1.tif: 145MB [00:18, 8.29MB/s]\n",
            "/content/drive/MyDrive/AIRCentre/CHELSAV21_tasmax_12_2005_V.2.1.tif: 132MB [00:17, 7.79MB/s]                           \n",
            "/content/drive/MyDrive/AIRCentre/CHELSAV21_tasmax_8_2005_V.2.1.tif: 145MB [00:18, 8.13MB/s]                           \n",
            "/content/drive/MyDrive/AIRCentre/CHELSAV21_tasmax_10_2005_V.2.1.tif: 137MB [00:18, 7.75MB/s]                           \n"
          ]
        },
        {
          "output_type": "stream",
          "name": "stdout",
          "text": [
            "11.99179746616511\n",
            "11.909929952004177\n",
            "16.09698764791517\n",
            "17.840370562545957\n",
            "22.176568512993526\n",
            "28.392113114541473\n",
            "28.985486660613162\n",
            "30.49114382900217\n",
            "26.425162508467793\n",
            "20.97901298626431\n",
            "14.242344445885806\n",
            "12.206131361611995\n",
            "SpeciesID: 2, Country: Portugal, AreaID: A398, Year: 2005, Mean tmax: 20.14475408733422, Highest value: 30.49114382900217\n"
          ]
        }
      ]
    }
  ]
}